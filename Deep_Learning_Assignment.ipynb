{
  "cells": [
    {
      "cell_type": "markdown",
      "metadata": {
        "id": "view-in-github",
        "colab_type": "text"
      },
      "source": [
        "<a href=\"https://colab.research.google.com/github/JatinderKumarChaurasia/DL_Assignment/blob/main/Deep_Learning_Assignment.ipynb\" target=\"_parent\"><img src=\"https://colab.research.google.com/assets/colab-badge.svg\" alt=\"Open In Colab\"/></a>"
      ]
    },
    {
      "cell_type": "code",
      "source": [
        "!pip install torchviz\n",
        "!pip install torchmetrics\n",
        "!pip install torch_directml"
      ],
      "metadata": {
        "colab": {
          "base_uri": "https://localhost:8080/"
        },
        "id": "B3SQvAg4HAU8",
        "outputId": "7699c0a9-da09-481d-ad21-9b675033f88b"
      },
      "execution_count": 5,
      "outputs": [
        {
          "output_type": "stream",
          "name": "stdout",
          "text": [
            "Looking in indexes: https://pypi.org/simple, https://us-python.pkg.dev/colab-wheels/public/simple/\n",
            "Collecting torchviz\n",
            "  Downloading torchviz-0.0.2.tar.gz (4.9 kB)\n",
            "  Preparing metadata (setup.py) ... \u001b[?25l\u001b[?25hdone\n",
            "Requirement already satisfied: torch in /usr/local/lib/python3.8/dist-packages (from torchviz) (1.13.1+cu116)\n",
            "Requirement already satisfied: graphviz in /usr/local/lib/python3.8/dist-packages (from torchviz) (0.10.1)\n",
            "Requirement already satisfied: typing-extensions in /usr/local/lib/python3.8/dist-packages (from torch->torchviz) (4.4.0)\n",
            "Building wheels for collected packages: torchviz\n",
            "  Building wheel for torchviz (setup.py) ... \u001b[?25l\u001b[?25hdone\n",
            "  Created wheel for torchviz: filename=torchviz-0.0.2-py3-none-any.whl size=4151 sha256=c0d71db666c381f14b399865632b8bc9305e7cd9a383db4e616035c7f58cda73\n",
            "  Stored in directory: /root/.cache/pip/wheels/05/7d/1b/8306781244e42ede119edbb053bdcda1c1f424ca226165a417\n",
            "Successfully built torchviz\n",
            "Installing collected packages: torchviz\n",
            "Successfully installed torchviz-0.0.2\n",
            "Looking in indexes: https://pypi.org/simple, https://us-python.pkg.dev/colab-wheels/public/simple/\n",
            "Collecting torchmetrics\n",
            "  Downloading torchmetrics-0.11.0-py3-none-any.whl (512 kB)\n",
            "\u001b[2K     \u001b[90m━━━━━━━━━━━━━━━━━━━━━━━━━━━━━━━━━━━━━━━\u001b[0m \u001b[32m512.4/512.4 KB\u001b[0m \u001b[31m9.7 MB/s\u001b[0m eta \u001b[36m0:00:00\u001b[0m\n",
            "\u001b[?25hRequirement already satisfied: typing-extensions in /usr/local/lib/python3.8/dist-packages (from torchmetrics) (4.4.0)\n",
            "Requirement already satisfied: numpy>=1.17.2 in /usr/local/lib/python3.8/dist-packages (from torchmetrics) (1.21.6)\n",
            "Requirement already satisfied: packaging in /usr/local/lib/python3.8/dist-packages (from torchmetrics) (21.3)\n",
            "Requirement already satisfied: torch>=1.8.1 in /usr/local/lib/python3.8/dist-packages (from torchmetrics) (1.13.1+cu116)\n",
            "Requirement already satisfied: pyparsing!=3.0.5,>=2.0.2 in /usr/local/lib/python3.8/dist-packages (from packaging->torchmetrics) (3.0.9)\n",
            "Installing collected packages: torchmetrics\n",
            "Successfully installed torchmetrics-0.11.0\n",
            "Looking in indexes: https://pypi.org/simple, https://us-python.pkg.dev/colab-wheels/public/simple/\n",
            "Collecting torch_directml\n",
            "  Downloading torch_directml-0.1.13.1.dev230119-cp38-cp38-manylinux2010_x86_64.whl (58.4 MB)\n",
            "\u001b[2K     \u001b[90m━━━━━━━━━━━━━━━━━━━━━━━━━━━━━━━━━━━━━━━━\u001b[0m \u001b[32m58.4/58.4 MB\u001b[0m \u001b[31m5.9 MB/s\u001b[0m eta \u001b[36m0:00:00\u001b[0m\n",
            "\u001b[?25hRequirement already satisfied: torchvision==0.14.1 in /usr/local/lib/python3.8/dist-packages (from torch_directml) (0.14.1+cu116)\n",
            "Requirement already satisfied: torch==1.13.1 in /usr/local/lib/python3.8/dist-packages (from torch_directml) (1.13.1+cu116)\n",
            "Requirement already satisfied: typing-extensions in /usr/local/lib/python3.8/dist-packages (from torch==1.13.1->torch_directml) (4.4.0)\n",
            "Requirement already satisfied: pillow!=8.3.*,>=5.3.0 in /usr/local/lib/python3.8/dist-packages (from torchvision==0.14.1->torch_directml) (7.1.2)\n",
            "Requirement already satisfied: requests in /usr/local/lib/python3.8/dist-packages (from torchvision==0.14.1->torch_directml) (2.25.1)\n",
            "Requirement already satisfied: numpy in /usr/local/lib/python3.8/dist-packages (from torchvision==0.14.1->torch_directml) (1.21.6)\n",
            "Requirement already satisfied: idna<3,>=2.5 in /usr/local/lib/python3.8/dist-packages (from requests->torchvision==0.14.1->torch_directml) (2.10)\n",
            "Requirement already satisfied: urllib3<1.27,>=1.21.1 in /usr/local/lib/python3.8/dist-packages (from requests->torchvision==0.14.1->torch_directml) (1.24.3)\n",
            "Requirement already satisfied: chardet<5,>=3.0.2 in /usr/local/lib/python3.8/dist-packages (from requests->torchvision==0.14.1->torch_directml) (4.0.0)\n",
            "Requirement already satisfied: certifi>=2017.4.17 in /usr/local/lib/python3.8/dist-packages (from requests->torchvision==0.14.1->torch_directml) (2022.12.7)\n",
            "Installing collected packages: torch_directml\n",
            "Successfully installed torch_directml-0.1.13.1.dev230119\n"
          ]
        }
      ]
    },
    {
      "cell_type": "code",
      "execution_count": 6,
      "metadata": {
        "id": "_47b6KnAYIfR"
      },
      "outputs": [],
      "source": [
        "import pandas as pd\n",
        "import numpy as np\n",
        "from numpy import vstack\n",
        "from tqdm import tqdm\n",
        "import time\n",
        "import math,itertools\n",
        "import torchmetrics\n",
        "# import torch_directml\n",
        "import torch\n",
        "from torchviz import make_dot\n",
        "from torch.utils.data import Dataset, DataLoader,TensorDataset\n",
        "import matplotlib.pyplot as plt\n",
        "import seaborn as sns\n",
        "from matplotlib.patches import Patch\n",
        "from sklearn.model_selection import train_test_split\n",
        "from sklearn.preprocessing import StandardScaler\n",
        "from sklearn import preprocessing\n",
        "from sklearn.metrics import f1_score as f1\n",
        "from sklearn.metrics import confusion_matrix,accuracy_score, roc_auc_score, precision_score, average_precision_score,recall_score, f1_score\n",
        "from sklearn.metrics import *\n",
        "from sklearn.utils import class_weight\n",
        "from torch import nn\n",
        "from torch.nn import functional as F"
      ]
    },
    {
      "cell_type": "markdown",
      "source": [
        "**Check the GPU availability**"
      ],
      "metadata": {
        "id": "tzRbZLeSxQ2f"
      }
    },
    {
      "cell_type": "code",
      "source": [
        "gpu = torch.cuda.is_available()\n",
        "print(f\"Is the GPU available? {gpu}\")"
      ],
      "metadata": {
        "colab": {
          "base_uri": "https://localhost:8080/"
        },
        "id": "4XzXWv3rxQBD",
        "outputId": "d7990ac3-337e-4957-8df2-cec027270f7f"
      },
      "execution_count": 7,
      "outputs": [
        {
          "output_type": "stream",
          "name": "stdout",
          "text": [
            "Is the GPU available? False\n"
          ]
        }
      ]
    },
    {
      "cell_type": "code",
      "source": [
        "device = torch.device(\"cuda\") if torch.cuda.is_available() else torch.device(\"cpu\")\n",
        "print(\"Device\", device)"
      ],
      "metadata": {
        "colab": {
          "base_uri": "https://localhost:8080/"
        },
        "id": "o4Q1H5wHxr4L",
        "outputId": "f9247e32-9a42-4dea-ccda-6160eaebf52f"
      },
      "execution_count": 8,
      "outputs": [
        {
          "output_type": "stream",
          "name": "stdout",
          "text": [
            "Device cpu\n"
          ]
        }
      ]
    },
    {
      "cell_type": "markdown",
      "source": [
        "**Mounting Drive**"
      ],
      "metadata": {
        "id": "sKv7W_aLxxru"
      }
    },
    {
      "cell_type": "code",
      "execution_count": 9,
      "metadata": {
        "colab": {
          "base_uri": "https://localhost:8080/"
        },
        "id": "iFoC0i52a7cm",
        "outputId": "47952efa-b456-4a1a-92f1-a2b76fa68f56"
      },
      "outputs": [
        {
          "output_type": "stream",
          "name": "stdout",
          "text": [
            "Mounted at /content/drive\n"
          ]
        }
      ],
      "source": [
        "from google.colab import drive\n",
        "drive.mount('/content/drive')"
      ]
    },
    {
      "cell_type": "markdown",
      "source": [
        "**Checking for missing values**"
      ],
      "metadata": {
        "id": "jOmttKaqyDkK"
      }
    },
    {
      "cell_type": "code",
      "execution_count": 10,
      "metadata": {
        "colab": {
          "base_uri": "https://localhost:8080/",
          "height": 49
        },
        "id": "vnGwEdyaeoIW",
        "outputId": "e891d40a-9cdd-4765-fdc5-e9557e96d222"
      },
      "outputs": [
        {
          "output_type": "execute_result",
          "data": {
            "text/plain": [
              "Empty DataFrame\n",
              "Columns: [index, missing_val]\n",
              "Index: []"
            ],
            "text/html": [
              "\n",
              "  <div id=\"df-451d5352-3756-4ace-b24e-5d4b471aa3d5\">\n",
              "    <div class=\"colab-df-container\">\n",
              "      <div>\n",
              "<style scoped>\n",
              "    .dataframe tbody tr th:only-of-type {\n",
              "        vertical-align: middle;\n",
              "    }\n",
              "\n",
              "    .dataframe tbody tr th {\n",
              "        vertical-align: top;\n",
              "    }\n",
              "\n",
              "    .dataframe thead th {\n",
              "        text-align: right;\n",
              "    }\n",
              "</style>\n",
              "<table border=\"1\" class=\"dataframe\">\n",
              "  <thead>\n",
              "    <tr style=\"text-align: right;\">\n",
              "      <th></th>\n",
              "      <th>index</th>\n",
              "      <th>missing_val</th>\n",
              "    </tr>\n",
              "  </thead>\n",
              "  <tbody>\n",
              "  </tbody>\n",
              "</table>\n",
              "</div>\n",
              "      <button class=\"colab-df-convert\" onclick=\"convertToInteractive('df-451d5352-3756-4ace-b24e-5d4b471aa3d5')\"\n",
              "              title=\"Convert this dataframe to an interactive table.\"\n",
              "              style=\"display:none;\">\n",
              "        \n",
              "  <svg xmlns=\"http://www.w3.org/2000/svg\" height=\"24px\"viewBox=\"0 0 24 24\"\n",
              "       width=\"24px\">\n",
              "    <path d=\"M0 0h24v24H0V0z\" fill=\"none\"/>\n",
              "    <path d=\"M18.56 5.44l.94 2.06.94-2.06 2.06-.94-2.06-.94-.94-2.06-.94 2.06-2.06.94zm-11 1L8.5 8.5l.94-2.06 2.06-.94-2.06-.94L8.5 2.5l-.94 2.06-2.06.94zm10 10l.94 2.06.94-2.06 2.06-.94-2.06-.94-.94-2.06-.94 2.06-2.06.94z\"/><path d=\"M17.41 7.96l-1.37-1.37c-.4-.4-.92-.59-1.43-.59-.52 0-1.04.2-1.43.59L10.3 9.45l-7.72 7.72c-.78.78-.78 2.05 0 2.83L4 21.41c.39.39.9.59 1.41.59.51 0 1.02-.2 1.41-.59l7.78-7.78 2.81-2.81c.8-.78.8-2.07 0-2.86zM5.41 20L4 18.59l7.72-7.72 1.47 1.35L5.41 20z\"/>\n",
              "  </svg>\n",
              "      </button>\n",
              "      \n",
              "  <style>\n",
              "    .colab-df-container {\n",
              "      display:flex;\n",
              "      flex-wrap:wrap;\n",
              "      gap: 12px;\n",
              "    }\n",
              "\n",
              "    .colab-df-convert {\n",
              "      background-color: #E8F0FE;\n",
              "      border: none;\n",
              "      border-radius: 50%;\n",
              "      cursor: pointer;\n",
              "      display: none;\n",
              "      fill: #1967D2;\n",
              "      height: 32px;\n",
              "      padding: 0 0 0 0;\n",
              "      width: 32px;\n",
              "    }\n",
              "\n",
              "    .colab-df-convert:hover {\n",
              "      background-color: #E2EBFA;\n",
              "      box-shadow: 0px 1px 2px rgba(60, 64, 67, 0.3), 0px 1px 3px 1px rgba(60, 64, 67, 0.15);\n",
              "      fill: #174EA6;\n",
              "    }\n",
              "\n",
              "    [theme=dark] .colab-df-convert {\n",
              "      background-color: #3B4455;\n",
              "      fill: #D2E3FC;\n",
              "    }\n",
              "\n",
              "    [theme=dark] .colab-df-convert:hover {\n",
              "      background-color: #434B5C;\n",
              "      box-shadow: 0px 1px 3px 1px rgba(0, 0, 0, 0.15);\n",
              "      filter: drop-shadow(0px 1px 2px rgba(0, 0, 0, 0.3));\n",
              "      fill: #FFFFFF;\n",
              "    }\n",
              "  </style>\n",
              "\n",
              "      <script>\n",
              "        const buttonEl =\n",
              "          document.querySelector('#df-451d5352-3756-4ace-b24e-5d4b471aa3d5 button.colab-df-convert');\n",
              "        buttonEl.style.display =\n",
              "          google.colab.kernel.accessAllowed ? 'block' : 'none';\n",
              "\n",
              "        async function convertToInteractive(key) {\n",
              "          const element = document.querySelector('#df-451d5352-3756-4ace-b24e-5d4b471aa3d5');\n",
              "          const dataTable =\n",
              "            await google.colab.kernel.invokeFunction('convertToInteractive',\n",
              "                                                     [key], {});\n",
              "          if (!dataTable) return;\n",
              "\n",
              "          const docLinkHtml = 'Like what you see? Visit the ' +\n",
              "            '<a target=\"_blank\" href=https://colab.research.google.com/notebooks/data_table.ipynb>data table notebook</a>'\n",
              "            + ' to learn more about interactive tables.';\n",
              "          element.innerHTML = '';\n",
              "          dataTable['output_type'] = 'display_data';\n",
              "          await google.colab.output.renderOutput(dataTable, element);\n",
              "          const docLink = document.createElement('div');\n",
              "          docLink.innerHTML = docLinkHtml;\n",
              "          element.appendChild(docLink);\n",
              "        }\n",
              "      </script>\n",
              "    </div>\n",
              "  </div>\n",
              "  "
            ]
          },
          "metadata": {},
          "execution_count": 10
        }
      ],
      "source": [
        "gdrive_path = '/content/drive/My Drive/data.csv'\n",
        "df_data=pd.read_csv(gdrive_path)\n",
        "df_data.columns\n",
        "tmp = df_data.isnull().sum().reset_index(name='missing_val')\n",
        "tmp[tmp['missing_val']!= 0]\n",
        "# no missing value\n",
        "\n"
      ]
    },
    {
      "cell_type": "markdown",
      "source": [
        ":**Print row number 49 to row 57 from input dataset along with its feature values**"
      ],
      "metadata": {
        "id": "A36pumGJ5QXe"
      }
    },
    {
      "cell_type": "code",
      "execution_count": 11,
      "metadata": {
        "colab": {
          "base_uri": "https://localhost:8080/",
          "height": 757
        },
        "id": "TAbELMVCAdtC",
        "outputId": "6ff3dc92-0055-4619-a1ea-afa5847a33ba"
      },
      "outputs": [
        {
          "output_type": "display_data",
          "data": {
            "text/plain": [
              "<Figure size 960x960 with 2 Axes>"
            ],
            "image/png": "[encoded data removed]"
          },
          "metadata": {
            "needs_background": "light"
          }
        }
      ],
      "source": [
        "# my_csv.dropna()\n",
        "# data=my_csv.drop(columns='T',inplace=True)\n",
        "# target=my_csv.T\n",
        "likely_cat = {}\n",
        "for var in df_data.iloc[:,:].columns:\n",
        "    likely_cat[var] = 1.*df_data[var].nunique()/df_data[var].count() < 0.002 \n",
        "\n",
        "num_cols = []\n",
        "cat_cols = []\n",
        "for col in likely_cat.keys():\n",
        "    if (likely_cat[col] == False):\n",
        "        num_cols.append(col)\n",
        "    else:\n",
        "        cat_cols.append(col)\n",
        "\n",
        "#Taking all columns except URL \n",
        "corr = df_data[num_cols].corr()\n",
        "\n",
        "fig = plt.figure(figsize=(12,12),dpi=80)\n",
        "mask = np.triu(np.ones_like(corr, dtype=bool))\n",
        "sns.heatmap(corr, mask=mask, cmap='BuPu', robust=True, center=0,\n",
        "            square=True, linewidths=.5)\n",
        "plt.title('Correlation of Numerical(Continous) Features', fontsize=15)\n",
        "plt.show()"
      ]
    },
    {
      "cell_type": "code",
      "execution_count": 12,
      "metadata": {
        "colab": {
          "base_uri": "https://localhost:8080/",
          "height": 529
        },
        "id": "RH0muLqKOawj",
        "outputId": "b33a739c-c37d-44ed-ace8-9bfa242a4b97"
      },
      "outputs": [
        {
          "output_type": "display_data",
          "data": {
            "text/plain": [
              "<Figure size 864x576 with 1 Axes>"
            ],
            "image/png": "[encoded data removed]"
          },
          "metadata": {
            "needs_background": "light"
          }
        }
      ],
      "source": [
        "df_distr =df_data.groupby('T')[num_cols].mean().reset_index().T\n",
        "df_distr.rename(columns={0:'0_Label',1:\"1_Label\"}, inplace=True)\n",
        "\n",
        "#plt.style.use('ggplot')\n",
        "plt.rcParams['axes.facecolor']='w'\n",
        "ax = df_distr[1:-3][['0_Label','1_Label']].plot(kind='bar', title =\"Distribution of Average values across Target\", figsize=(12, 8), legend=True, fontsize=12)\n",
        "ax.set_xlabel(\"Numerical Features\", fontsize=14)\n",
        "ax.set_ylabel(\"Average Values\", fontsize=14)\n",
        "#ax.set_ylim(0,500000)\n",
        "plt.show()"
      ]
    },
    {
      "cell_type": "code",
      "execution_count": 13,
      "metadata": {
        "colab": {
          "base_uri": "https://localhost:8080/",
          "height": 443
        },
        "id": "saaXH_80OnBW",
        "outputId": "2221af05-510f-4882-f615-257383fcc27c"
      },
      "outputs": [
        {
          "output_type": "stream",
          "name": "stderr",
          "text": [
            "/usr/local/lib/python3.8/dist-packages/seaborn/_decorators.py:36: FutureWarning: Pass the following variable as a keyword arg: x. From version 0.12, the only valid positional argument will be `data`, and passing other arguments without an explicit keyword will result in an error or misinterpretation.\n",
            "  warnings.warn(\n"
          ]
        },
        {
          "output_type": "execute_result",
          "data": {
            "text/plain": [
              "<seaborn.axisgrid.FacetGrid at 0x7fae4b2ef040>"
            ]
          },
          "metadata": {},
          "execution_count": 13
        },
        {
          "output_type": "display_data",
          "data": {
            "text/plain": [
              "<Figure size 551.686x360 with 1 Axes>"
            ],
            "image/png": "[encoded data removed]"
          },
          "metadata": {
            "needs_background": "light"
          }
        }
      ],
      "source": [
        "sns.catplot(\"x57\", hue=\"T\", data=df_data.head(100), kind=\"count\",\n",
        "            palette={1:\"green\", 0:\"blue\"} ,height=5.0, aspect=11.7/8.27 )"
      ]
    },
    {
      "cell_type": "markdown",
      "source": [
        "**Split the data into train set(80% of data points) and testset(20% of data)**"
      ],
      "metadata": {
        "id": "Gp8pw3MUwXiQ"
      }
    },
    {
      "cell_type": "markdown",
      "source": [
        "**Model Development**\n",
        "**a) Build the Fully connected Deep Neural Network**\n",
        "**b) Experiment with number of hidden layers, and number of neurons in the network**"
      ],
      "metadata": {
        "id": "8qQgBnv-wx81"
      }
    },
    {
      "cell_type": "code",
      "execution_count": 50,
      "metadata": {
        "id": "Mv2Ve2pGdSUv"
      },
      "outputs": [],
      "source": [
        "\n",
        "# Data Preprocessing and Tensors Creations\n",
        "class DataLine(Dataset):\n",
        "  # scaled using MinMaxScalar\n",
        "  def __init__(self,path=None,target_variable:str=None,do_split:bool=False,split_ratio:float=0.1,split_shuffle:bool=False,do_scale:bool=False,convert_to_tensor:bool=False):\n",
        "    self.df_data=pd.read_csv(gdrive_path)\n",
        "    self.preprocessed_data_frame=self.check_missing_values(self.check_nan_values(self.df_data))\n",
        "    self.x= self.preprocessed_data_frame.drop([target_variable],axis=1) # features\n",
        "    self.y = self.preprocessed_data_frame[[target_variable]] # target_variables = T\n",
        "    self.split_ratio=split_ratio\n",
        "    self.do_split= do_split\n",
        "    self.do_scale= do_scale\n",
        "    self.convert_to_tensor= convert_to_tensor\n",
        "    self.split_shuffle=split_shuffle\n",
        "    self.feature_set_columns,self.feature_set_shape= self.x.columns.values,self.x.shape\n",
        "    self.test_set_columns,test_set_shape=self.y.columns,self.y.shape\n",
        "    if self.do_split:\n",
        "      self.train_x,self.test_x,self.train_y,self.test_y= self.split(test_ratio=self.split_ratio,shuffle=self.split_shuffle)\n",
        "    else:\n",
        "      self.train_x,self.test_x,self.train_y,self.test_y = None,None,None,None\n",
        "    if self.do_scale and self.do_split:\n",
        "      print('Scaling Training Data')\n",
        "      scaler = preprocessing.MinMaxScaler()\n",
        "      self.x_train = scaler.fit_transform(self.train_x.values)\n",
        "      self.x_test =  scaler.fit_transform(self.test_x.values)\n",
        "      # print(\"Scaled values of Train set and Type \\n\")\n",
        "      # print(self.x_train,type(self.x_train))\n",
        "      # print(\"\\nScaled values of Test set and Type \\n\")\n",
        "      # print(self.x_test,type(self.x_test))\n",
        "    else:\n",
        "      self.x_train,self.x_test=self.train_x,self.test_x\n",
        "    if self.do_split and self.convert_to_tensor:\n",
        "      print('Converting to tensor')\n",
        "      self.x_tensor =  torch.from_numpy(self.x_train).float().to(device)\n",
        "      self.y_tensor =  torch.from_numpy(self.train_y.values.ravel()).float().to(device)\n",
        "      self.xtest_tensor =  torch.from_numpy(self.x_test).float().to(device)\n",
        "      self.ytest_tensor =  torch.from_numpy(self.test_y.values.ravel()).float().to(device)\n",
        "    else:\n",
        "      self.x_tensor,self.y_tensor,self.xtest_tensor,self.ytest_tensor= None,None,None,None\n",
        "    \n",
        "    print(\"Feature Set Columns: {} and Shape: {}\".format(self.x.columns,self.x.shape))\n",
        "    print(\"Test_Variable Column: {} and Shape: {}\".format(self.y.columns,self.y.shape))\n",
        "    # self.x = torch.tensor(input_set.values,dtype=torch.float32)\n",
        "    # self.y = torch.tensor(target_set.values,dtype=torch.float32)\n",
        "    self.length = self.x.shape\n",
        "\n",
        "  # def get_pre_processed_data(self,dataframe: pd.DataFrame):\n",
        "  #   print('checking if there is null value')\n",
        "  #   print(dataframe.isnull().sum().sum())\n",
        "  #   return dataframe\n",
        "  \n",
        "  def check_missing_values(self,df_data):\n",
        "    print('checking if any missing or invalid value in here')\n",
        "    # print(df_data.isnull().sum().to_markdown())\n",
        "    if df_data.isnull().sum().sum() == 0:\n",
        "      print('No Missing Values Found in DataSet')\n",
        "    else:\n",
        "      df_data.interpolate(method='linear') # impute missing value\n",
        "      df_data.fillna(0,inplace=True)\n",
        "    # for i,j in self.df_data.isnull().sum().index():\n",
        "    #   print(i,j)\n",
        "    # print(self.df_data.isnull().sum().sum().to_markdown()) \n",
        "    return df_data\n",
        "\n",
        "  def get_feature_columns(self):\n",
        "    return self.x.columns\n",
        "\n",
        "  def get_test_columns(self):\n",
        "    return self.y.columns\n",
        "\n",
        "  def check_nan_values(self,df_data):\n",
        "    print('checking if any nan value in there')\n",
        "    if df_data.isna().sum().sum() == 0:\n",
        "      print('No Nan Values Found in DataSet')\n",
        "    else:\n",
        "      df_data.fillna(0,inplace=True)\n",
        "    #filtered_tensor = self.x_tensor[~torch.any(self.x_tensor.isnan(),dim=1)]\n",
        "    # print(filtered_tensor)\n",
        "    # for i,j in self.df_data.isna().sum().index():\n",
        "    #   print(i,j)\n",
        "    # print(self.df_data.isna().sum().sum().to_markdown()) \n",
        "    return df_data\n",
        "\n",
        "  def print_rows(self,from_row:int,to_row:int):\n",
        "    print(f'Print row number {from_row} to row {to_row} from input dataset along with its feature values ')\n",
        "    print(self.preprocessed_data_frame.iloc[from_row:to_row].to_markdown())\n",
        "\n",
        "  def get_visuals(self):\n",
        "    pass\n",
        "\n",
        "  def pre_processing_data(self):\n",
        "    pass\n",
        "    \n",
        "    \n",
        "  def __getitem__(self, index):\n",
        "      return self.x[index],self.y[index]\n",
        "      # row = self.dataframe.iloc[index].to_numpy()\n",
        "      # features = row[1:]\n",
        "      # label = row[0]\n",
        "      # return features, label\n",
        "\n",
        "  def __len__(self):\n",
        "      return len(self.x)\n",
        "\n",
        "  def get_split_data(self):\n",
        "    if self.do_split:\n",
        "      return self.train_x,self.test_x,self.train_y,self.test_y\n",
        "    else:\n",
        "      raise Exception(f'Split is not done when processing dataset-> split is -> {self.do_split}')\n",
        "\n",
        "  def split(self,test_ratio:float = 0.1,shuffle: bool = False):\n",
        "    \n",
        "    if test_ratio > 1 or test_ratio <= 0:\n",
        "      raise Exception(\"Invalid test_ratio, need to be in between 0 and 1 , found ratio: {}\".format(test_ratio))\n",
        "    train_ratio= 1- test_ratio\n",
        "    print(\"Splitting Train Ratio: {}, Test_Ratio: {}\".format(train_ratio,test_ratio))\n",
        "    train_x,test_x,train_y,test_y= train_test_split(self.x,self.y,test_size=test_ratio,train_size=train_ratio,shuffle=shuffle)\n",
        "    print(\"TrainingSet_X Shape: {} \\nTestSet_X Shape: {} \\nTraining_Set_Y Shape: {} \\nTest_Set_Y: {}\".format(train_x.shape,test_x.shape,train_y.shape,test_y.shape))\n",
        "    return train_x,test_x,train_y,test_y\n",
        "    # if scale == True:\n",
        "    #   print('Scaling Training Data')\n",
        "    #   scaler = preprocessing.MinMaxScaler()\n",
        "    #   x_train = scaler.fit_transform(train_x.values)\n",
        "    #   x_test =  scaler.fit_transform(test_x.values)\n",
        "    #   print(\"Scaled values of Train set and Type \\n\")\n",
        "    #   print(x_train,type(x_train))\n",
        "    #   print(\"\\nScaled values of Test set and Type \\n\")\n",
        "    #   print(x_test,type(x_test))\n",
        "    # else:\n",
        "    #   x_train,x_test= train_x,test_x\n",
        "    # if convert_to_tensor == True:\n",
        "    #   print('Converting to tensor')\n",
        "    #   x_tensor =  torch.from_numpy(x_train).float()\n",
        "    #   y_tensor =  torch.from_numpy(train_y.values.ravel()).float()\n",
        "    #   xtest_tensor =  torch.from_numpy(x_test).float()\n",
        "    #   ytest_tensor =  torch.from_numpy(test_y.values.ravel()).float()\n",
        "    # else:\n",
        "    #   x_tensor,y_tensor,xtest_tensor,ytest_tensor=x_train,train_y,x_test,test_y\n",
        "    # return x_tensor,y_tensor,xtest_tensor,ytest_tensor\n"
      ]
    },
    {
      "cell_type": "code",
      "source": [
        "# To calculate Accuracy\n",
        "def binary_acc(y_pred, y_test):\n",
        "    y_pred_tag = torch.round(torch.sigmoid(y_pred))\n",
        "\n",
        "    correct_results_sum = (y_pred_tag == y_test).sum().float()\n",
        "    acc = correct_results_sum/y_test.shape[0]\n",
        "    acc = torch.round(acc * 100)\n",
        "    \n",
        "    return acc"
      ],
      "metadata": {
        "id": "1XNOi4LAod-N"
      },
      "execution_count": 24,
      "outputs": []
    },
    {
      "cell_type": "code",
      "source": [
        "def l1_l2_regularizer(regularizer_type,params,lambda_value=0.001):\n",
        "  if regularizer_type == 'l1':\n",
        "    norm = sum(torch.linalg.norm(p, 1) for p in model.parameters())\n",
        "  elif regularizer_type == 'l2':\n",
        "    norm= sum(torch.linalg.norm(p, 2) for p in model.parameters())\n",
        "  else:\n",
        "    raise Exception(\"Only l1 and l2 regularizer as regularizer_type\")\n",
        "  return lambda_value * norm"
      ],
      "metadata": {
        "id": "5_nK5zsNUTgg"
      },
      "execution_count": 25,
      "outputs": []
    },
    {
      "cell_type": "code",
      "source": [
        "# loading csv\n",
        "data_line = DataLine(path=gdrive_path,target_variable='T',do_split=True,split_ratio=0.2,convert_to_tensor=True,do_scale=True)\n"
      ],
      "metadata": {
        "colab": {
          "base_uri": "https://localhost:8080/"
        },
        "id": "cUI82l3nsiWO",
        "outputId": "63484cf5-d9fa-4e9a-f967-fba35c150b25"
      },
      "execution_count": 116,
      "outputs": [
        {
          "output_type": "stream",
          "name": "stdout",
          "text": [
            "checking if any nan value in there\n",
            "No Nan Values Found in DataSet\n",
            "checking if any missing or invalid value in here\n",
            "No Missing Values Found in DataSet\n",
            "Splitting Train Ratio: 0.8, Test_Ratio: 0.2\n",
            "TrainingSet_X Shape: (9144, 87) \n",
            "TestSet_X Shape: (2286, 87) \n",
            "Training_Set_Y Shape: (9144, 1) \n",
            "Test_Set_Y: (2286, 1)\n",
            "Scaling Training Data\n",
            "Converting to tensor\n",
            "Feature Set Columns: Index(['x1', 'x2', 'x3', 'x4', 'x5', 'x6', 'x7', 'x8', 'x9', 'x10', 'x11',\n",
            "       'x12', 'x13', 'x14', 'x15', 'x16', 'x17', 'x18', 'x19', 'x20', 'x21',\n",
            "       'x22', 'x23', 'x24', 'x25', 'x26', 'x27', 'x28', 'x29', 'x30', 'x31',\n",
            "       'x32', 'x33', 'x34', 'x35', 'x36', 'x37', 'x38', 'x39', 'x40', 'x41',\n",
            "       'x42', 'x43', 'x44', 'x45', 'x46', 'x47', 'x48', 'x49', 'x50', 'x51',\n",
            "       'x52', 'x53', 'x54', 'x55', 'x56', 'x57', 'x58', 'x59', 'x60', 'x61',\n",
            "       'x62', 'x63', 'x64', 'x65', 'x66', 'x67', 'x68', 'x69', 'x70', 'x71',\n",
            "       'x72', 'x73', 'x74', 'x75', 'x76', 'x77', 'x78', 'x79', 'x80', 'x81',\n",
            "       'x82', 'x83', 'x84', 'x85', 'x86', 'x87'],\n",
            "      dtype='object') and Shape: (11430, 87)\n",
            "Test_Variable Column: Index(['T'], dtype='object') and Shape: (11430, 1)\n"
          ]
        }
      ]
    },
    {
      "cell_type": "code",
      "source": [
        "# feature columns\n",
        "data_line.get_feature_columns()"
      ],
      "metadata": {
        "colab": {
          "base_uri": "https://localhost:8080/"
        },
        "id": "J0mWxD8YrcVu",
        "outputId": "194512da-787e-4b2c-c30b-4e43b78c1b5e"
      },
      "execution_count": 48,
      "outputs": [
        {
          "output_type": "execute_result",
          "data": {
            "text/plain": [
              "Index(['x1', 'x2', 'x3', 'x4', 'x5', 'x6', 'x7', 'x8', 'x9', 'x10', 'x11',\n",
              "       'x12', 'x13', 'x14', 'x15', 'x16', 'x17', 'x18', 'x19', 'x20', 'x21',\n",
              "       'x22', 'x23', 'x24', 'x25', 'x26', 'x27', 'x28', 'x29', 'x30', 'x31',\n",
              "       'x32', 'x33', 'x34', 'x35', 'x36', 'x37', 'x38', 'x39', 'x40', 'x41',\n",
              "       'x42', 'x43', 'x44', 'x45', 'x46', 'x47', 'x48', 'x49', 'x50', 'x51',\n",
              "       'x52', 'x53', 'x54', 'x55', 'x56', 'x57', 'x58', 'x59', 'x60', 'x61',\n",
              "       'x62', 'x63', 'x64', 'x65', 'x66', 'x67', 'x68', 'x69', 'x70', 'x71',\n",
              "       'x72', 'x73', 'x74', 'x75', 'x76', 'x77', 'x78', 'x79', 'x80', 'x81',\n",
              "       'x82', 'x83', 'x84', 'x85', 'x86', 'x87'],\n",
              "      dtype='object')"
            ]
          },
          "metadata": {},
          "execution_count": 48
        }
      ]
    },
    {
      "cell_type": "code",
      "source": [
        "# test_columns:\n",
        "data_line.get_test_columns()"
      ],
      "metadata": {
        "colab": {
          "base_uri": "https://localhost:8080/"
        },
        "id": "6U0Lq5Apr_H0",
        "outputId": "1a531342-98db-4b45-8a3a-4ce670928779"
      },
      "execution_count": 49,
      "outputs": [
        {
          "output_type": "execute_result",
          "data": {
            "text/plain": [
              "Index(['T'], dtype='object')"
            ]
          },
          "metadata": {},
          "execution_count": 49
        }
      ]
    },
    {
      "cell_type": "code",
      "source": [
        "# Splitted Data Set and their shapes - 20% test \n",
        "tr_x,tr_y,te_x,te_y = data_line.get_split_data()\n",
        "print(f\"Train X Set Shape: {tr_x.shape}\")\n",
        "print(f\"Train Y Set Shape: {tr_y.shape}\")\n",
        "print(f\"Test X Set Shape: {te_x.shape}\")\n",
        "print(f\"Test Y Set Shape: {te_y.shape}\")"
      ],
      "metadata": {
        "colab": {
          "base_uri": "https://localhost:8080/"
        },
        "id": "sQGAqu77qGuU",
        "outputId": "ee819895-db30-4b4b-e480-dbc1e1e0ccc9"
      },
      "execution_count": 44,
      "outputs": [
        {
          "output_type": "stream",
          "name": "stdout",
          "text": [
            "Train X Set Shape: (9144, 87)\n",
            "Train Y Set Shape: (2286, 87)\n",
            "Test X Set Shape: (9144, 1)\n",
            "Test Y Set Shape: (2286, 1)\n"
          ]
        }
      ]
    },
    {
      "cell_type": "code",
      "source": [
        "# checking Nan Values\n",
        "data_line.check_nan_values(data_line.df_data)"
      ],
      "metadata": {
        "colab": {
          "base_uri": "https://localhost:8080/",
          "height": 459
        },
        "id": "kiZ168Fhp0Nl",
        "outputId": "d069e5af-62c2-4f14-adcc-7cf385974caa"
      },
      "execution_count": 52,
      "outputs": [
        {
          "output_type": "stream",
          "name": "stdout",
          "text": [
            "checking if any nan value in there\n",
            "No Nan Values Found in DataSet\n"
          ]
        },
        {
          "output_type": "execute_result",
          "data": {
            "text/plain": [
              "        x1  x2  x3  x4  x5  x6  x7  x8  x9  x10  ...  x79  x80  x81   x82  \\\n",
              "0       37  19   0   3   0   0   0   0   0    0  ...    0    1    0    45   \n",
              "1       77  23   1   1   0   0   0   0   0    0  ...    1    0    0    77   \n",
              "2      126  50   1   4   1   0   1   2   0    3  ...    1    0    0    14   \n",
              "3       18  11   0   2   0   0   0   0   0    0  ...    1    0    0    62   \n",
              "4       55  15   0   2   2   0   0   0   0    0  ...    0    1    0   224   \n",
              "...    ...  ..  ..  ..  ..  ..  ..  ..  ..  ...  ...  ...  ...  ...   ...   \n",
              "11425   45  17   0   2   0   0   0   0   0    0  ...    0    0    0   448   \n",
              "11426   84  18   0   5   0   1   1   0   0    1  ...    1    0    0   211   \n",
              "11427  105  16   1   2   6   0   1   0   0    1  ...    0    0    0  2809   \n",
              "11428   38  30   0   2   0   0   0   0   0    0  ...    1    0    0    85   \n",
              "11429  477  14   1  24   0   1   1   9   0    9  ...    1    1    1     0   \n",
              "\n",
              "        x83      x84  x85  x86  x87  T  \n",
              "0        -1        0    1    1    4  1  \n",
              "1      5767        0    0    1    2  0  \n",
              "2      4004  5828815    0    1    0  0  \n",
              "3        -1   107721    0    0    3  1  \n",
              "4      8175     8725    0    0    6  1  \n",
              "...     ...      ...  ...  ...  ... ..  \n",
              "11425  5396     3980    0    0    6  1  \n",
              "11426  6728        0    0    1    0  0  \n",
              "11427  8515        8    0    1   10  1  \n",
              "11428  2836  2455493    0    0    4  1  \n",
              "11429    -1        0    1    1    0  0  \n",
              "\n",
              "[11430 rows x 88 columns]"
            ],
            "text/html": [
              "\n",
              "  <div id=\"df-e167d8fb-10bd-402b-a52a-45ce8d60646d\">\n",
              "    <div class=\"colab-df-container\">\n",
              "      <div>\n",
              "<style scoped>\n",
              "    .dataframe tbody tr th:only-of-type {\n",
              "        vertical-align: middle;\n",
              "    }\n",
              "\n",
              "    .dataframe tbody tr th {\n",
              "        vertical-align: top;\n",
              "    }\n",
              "\n",
              "    .dataframe thead th {\n",
              "        text-align: right;\n",
              "    }\n",
              "</style>\n",
              "<table border=\"1\" class=\"dataframe\">\n",
              "  <thead>\n",
              "    <tr style=\"text-align: right;\">\n",
              "      <th></th>\n",
              "      <th>x1</th>\n",
              "      <th>x2</th>\n",
              "      <th>x3</th>\n",
              "      <th>x4</th>\n",
              "      <th>x5</th>\n",
              "      <th>x6</th>\n",
              "      <th>x7</th>\n",
              "      <th>x8</th>\n",
              "      <th>x9</th>\n",
              "      <th>x10</th>\n",
              "      <th>...</th>\n",
              "      <th>x79</th>\n",
              "      <th>x80</th>\n",
              "      <th>x81</th>\n",
              "      <th>x82</th>\n",
              "      <th>x83</th>\n",
              "      <th>x84</th>\n",
              "      <th>x85</th>\n",
              "      <th>x86</th>\n",
              "      <th>x87</th>\n",
              "      <th>T</th>\n",
              "    </tr>\n",
              "  </thead>\n",
              "  <tbody>\n",
              "    <tr>\n",
              "      <th>0</th>\n",
              "      <td>37</td>\n",
              "      <td>19</td>\n",
              "      <td>0</td>\n",
              "      <td>3</td>\n",
              "      <td>0</td>\n",
              "      <td>0</td>\n",
              "      <td>0</td>\n",
              "      <td>0</td>\n",
              "      <td>0</td>\n",
              "      <td>0</td>\n",
              "      <td>...</td>\n",
              "      <td>0</td>\n",
              "      <td>1</td>\n",
              "      <td>0</td>\n",
              "      <td>45</td>\n",
              "      <td>-1</td>\n",
              "      <td>0</td>\n",
              "      <td>1</td>\n",
              "      <td>1</td>\n",
              "      <td>4</td>\n",
              "      <td>1</td>\n",
              "    </tr>\n",
              "    <tr>\n",
              "      <th>1</th>\n",
              "      <td>77</td>\n",
              "      <td>23</td>\n",
              "      <td>1</td>\n",
              "      <td>1</td>\n",
              "      <td>0</td>\n",
              "      <td>0</td>\n",
              "      <td>0</td>\n",
              "      <td>0</td>\n",
              "      <td>0</td>\n",
              "      <td>0</td>\n",
              "      <td>...</td>\n",
              "      <td>1</td>\n",
              "      <td>0</td>\n",
              "      <td>0</td>\n",
              "      <td>77</td>\n",
              "      <td>5767</td>\n",
              "      <td>0</td>\n",
              "      <td>0</td>\n",
              "      <td>1</td>\n",
              "      <td>2</td>\n",
              "      <td>0</td>\n",
              "    </tr>\n",
              "    <tr>\n",
              "      <th>2</th>\n",
              "      <td>126</td>\n",
              "      <td>50</td>\n",
              "      <td>1</td>\n",
              "      <td>4</td>\n",
              "      <td>1</td>\n",
              "      <td>0</td>\n",
              "      <td>1</td>\n",
              "      <td>2</td>\n",
              "      <td>0</td>\n",
              "      <td>3</td>\n",
              "      <td>...</td>\n",
              "      <td>1</td>\n",
              "      <td>0</td>\n",
              "      <td>0</td>\n",
              "      <td>14</td>\n",
              "      <td>4004</td>\n",
              "      <td>5828815</td>\n",
              "      <td>0</td>\n",
              "      <td>1</td>\n",
              "      <td>0</td>\n",
              "      <td>0</td>\n",
              "    </tr>\n",
              "    <tr>\n",
              "      <th>3</th>\n",
              "      <td>18</td>\n",
              "      <td>11</td>\n",
              "      <td>0</td>\n",
              "      <td>2</td>\n",
              "      <td>0</td>\n",
              "      <td>0</td>\n",
              "      <td>0</td>\n",
              "      <td>0</td>\n",
              "      <td>0</td>\n",
              "      <td>0</td>\n",
              "      <td>...</td>\n",
              "      <td>1</td>\n",
              "      <td>0</td>\n",
              "      <td>0</td>\n",
              "      <td>62</td>\n",
              "      <td>-1</td>\n",
              "      <td>107721</td>\n",
              "      <td>0</td>\n",
              "      <td>0</td>\n",
              "      <td>3</td>\n",
              "      <td>1</td>\n",
              "    </tr>\n",
              "    <tr>\n",
              "      <th>4</th>\n",
              "      <td>55</td>\n",
              "      <td>15</td>\n",
              "      <td>0</td>\n",
              "      <td>2</td>\n",
              "      <td>2</td>\n",
              "      <td>0</td>\n",
              "      <td>0</td>\n",
              "      <td>0</td>\n",
              "      <td>0</td>\n",
              "      <td>0</td>\n",
              "      <td>...</td>\n",
              "      <td>0</td>\n",
              "      <td>1</td>\n",
              "      <td>0</td>\n",
              "      <td>224</td>\n",
              "      <td>8175</td>\n",
              "      <td>8725</td>\n",
              "      <td>0</td>\n",
              "      <td>0</td>\n",
              "      <td>6</td>\n",
              "      <td>1</td>\n",
              "    </tr>\n",
              "    <tr>\n",
              "      <th>...</th>\n",
              "      <td>...</td>\n",
              "      <td>...</td>\n",
              "      <td>...</td>\n",
              "      <td>...</td>\n",
              "      <td>...</td>\n",
              "      <td>...</td>\n",
              "      <td>...</td>\n",
              "      <td>...</td>\n",
              "      <td>...</td>\n",
              "      <td>...</td>\n",
              "      <td>...</td>\n",
              "      <td>...</td>\n",
              "      <td>...</td>\n",
              "      <td>...</td>\n",
              "      <td>...</td>\n",
              "      <td>...</td>\n",
              "      <td>...</td>\n",
              "      <td>...</td>\n",
              "      <td>...</td>\n",
              "      <td>...</td>\n",
              "      <td>...</td>\n",
              "    </tr>\n",
              "    <tr>\n",
              "      <th>11425</th>\n",
              "      <td>45</td>\n",
              "      <td>17</td>\n",
              "      <td>0</td>\n",
              "      <td>2</td>\n",
              "      <td>0</td>\n",
              "      <td>0</td>\n",
              "      <td>0</td>\n",
              "      <td>0</td>\n",
              "      <td>0</td>\n",
              "      <td>0</td>\n",
              "      <td>...</td>\n",
              "      <td>0</td>\n",
              "      <td>0</td>\n",
              "      <td>0</td>\n",
              "      <td>448</td>\n",
              "      <td>5396</td>\n",
              "      <td>3980</td>\n",
              "      <td>0</td>\n",
              "      <td>0</td>\n",
              "      <td>6</td>\n",
              "      <td>1</td>\n",
              "    </tr>\n",
              "    <tr>\n",
              "      <th>11426</th>\n",
              "      <td>84</td>\n",
              "      <td>18</td>\n",
              "      <td>0</td>\n",
              "      <td>5</td>\n",
              "      <td>0</td>\n",
              "      <td>1</td>\n",
              "      <td>1</td>\n",
              "      <td>0</td>\n",
              "      <td>0</td>\n",
              "      <td>1</td>\n",
              "      <td>...</td>\n",
              "      <td>1</td>\n",
              "      <td>0</td>\n",
              "      <td>0</td>\n",
              "      <td>211</td>\n",
              "      <td>6728</td>\n",
              "      <td>0</td>\n",
              "      <td>0</td>\n",
              "      <td>1</td>\n",
              "      <td>0</td>\n",
              "      <td>0</td>\n",
              "    </tr>\n",
              "    <tr>\n",
              "      <th>11427</th>\n",
              "      <td>105</td>\n",
              "      <td>16</td>\n",
              "      <td>1</td>\n",
              "      <td>2</td>\n",
              "      <td>6</td>\n",
              "      <td>0</td>\n",
              "      <td>1</td>\n",
              "      <td>0</td>\n",
              "      <td>0</td>\n",
              "      <td>1</td>\n",
              "      <td>...</td>\n",
              "      <td>0</td>\n",
              "      <td>0</td>\n",
              "      <td>0</td>\n",
              "      <td>2809</td>\n",
              "      <td>8515</td>\n",
              "      <td>8</td>\n",
              "      <td>0</td>\n",
              "      <td>1</td>\n",
              "      <td>10</td>\n",
              "      <td>1</td>\n",
              "    </tr>\n",
              "    <tr>\n",
              "      <th>11428</th>\n",
              "      <td>38</td>\n",
              "      <td>30</td>\n",
              "      <td>0</td>\n",
              "      <td>2</td>\n",
              "      <td>0</td>\n",
              "      <td>0</td>\n",
              "      <td>0</td>\n",
              "      <td>0</td>\n",
              "      <td>0</td>\n",
              "      <td>0</td>\n",
              "      <td>...</td>\n",
              "      <td>1</td>\n",
              "      <td>0</td>\n",
              "      <td>0</td>\n",
              "      <td>85</td>\n",
              "      <td>2836</td>\n",
              "      <td>2455493</td>\n",
              "      <td>0</td>\n",
              "      <td>0</td>\n",
              "      <td>4</td>\n",
              "      <td>1</td>\n",
              "    </tr>\n",
              "    <tr>\n",
              "      <th>11429</th>\n",
              "      <td>477</td>\n",
              "      <td>14</td>\n",
              "      <td>1</td>\n",
              "      <td>24</td>\n",
              "      <td>0</td>\n",
              "      <td>1</td>\n",
              "      <td>1</td>\n",
              "      <td>9</td>\n",
              "      <td>0</td>\n",
              "      <td>9</td>\n",
              "      <td>...</td>\n",
              "      <td>1</td>\n",
              "      <td>1</td>\n",
              "      <td>1</td>\n",
              "      <td>0</td>\n",
              "      <td>-1</td>\n",
              "      <td>0</td>\n",
              "      <td>1</td>\n",
              "      <td>1</td>\n",
              "      <td>0</td>\n",
              "      <td>0</td>\n",
              "    </tr>\n",
              "  </tbody>\n",
              "</table>\n",
              "<p>11430 rows × 88 columns</p>\n",
              "</div>\n",
              "      <button class=\"colab-df-convert\" onclick=\"convertToInteractive('df-e167d8fb-10bd-402b-a52a-45ce8d60646d')\"\n",
              "              title=\"Convert this dataframe to an interactive table.\"\n",
              "              style=\"display:none;\">\n",
              "        \n",
              "  <svg xmlns=\"http://www.w3.org/2000/svg\" height=\"24px\"viewBox=\"0 0 24 24\"\n",
              "       width=\"24px\">\n",
              "    <path d=\"M0 0h24v24H0V0z\" fill=\"none\"/>\n",
              "    <path d=\"M18.56 5.44l.94 2.06.94-2.06 2.06-.94-2.06-.94-.94-2.06-.94 2.06-2.06.94zm-11 1L8.5 8.5l.94-2.06 2.06-.94-2.06-.94L8.5 2.5l-.94 2.06-2.06.94zm10 10l.94 2.06.94-2.06 2.06-.94-2.06-.94-.94-2.06-.94 2.06-2.06.94z\"/><path d=\"M17.41 7.96l-1.37-1.37c-.4-.4-.92-.59-1.43-.59-.52 0-1.04.2-1.43.59L10.3 9.45l-7.72 7.72c-.78.78-.78 2.05 0 2.83L4 21.41c.39.39.9.59 1.41.59.51 0 1.02-.2 1.41-.59l7.78-7.78 2.81-2.81c.8-.78.8-2.07 0-2.86zM5.41 20L4 18.59l7.72-7.72 1.47 1.35L5.41 20z\"/>\n",
              "  </svg>\n",
              "      </button>\n",
              "      \n",
              "  <style>\n",
              "    .colab-df-container {\n",
              "      display:flex;\n",
              "      flex-wrap:wrap;\n",
              "      gap: 12px;\n",
              "    }\n",
              "\n",
              "    .colab-df-convert {\n",
              "      background-color: #E8F0FE;\n",
              "      border: none;\n",
              "      border-radius: 50%;\n",
              "      cursor: pointer;\n",
              "      display: none;\n",
              "      fill: #1967D2;\n",
              "      height: 32px;\n",
              "      padding: 0 0 0 0;\n",
              "      width: 32px;\n",
              "    }\n",
              "\n",
              "    .colab-df-convert:hover {\n",
              "      background-color: #E2EBFA;\n",
              "      box-shadow: 0px 1px 2px rgba(60, 64, 67, 0.3), 0px 1px 3px 1px rgba(60, 64, 67, 0.15);\n",
              "      fill: #174EA6;\n",
              "    }\n",
              "\n",
              "    [theme=dark] .colab-df-convert {\n",
              "      background-color: #3B4455;\n",
              "      fill: #D2E3FC;\n",
              "    }\n",
              "\n",
              "    [theme=dark] .colab-df-convert:hover {\n",
              "      background-color: #434B5C;\n",
              "      box-shadow: 0px 1px 3px 1px rgba(0, 0, 0, 0.15);\n",
              "      filter: drop-shadow(0px 1px 2px rgba(0, 0, 0, 0.3));\n",
              "      fill: #FFFFFF;\n",
              "    }\n",
              "  </style>\n",
              "\n",
              "      <script>\n",
              "        const buttonEl =\n",
              "          document.querySelector('#df-e167d8fb-10bd-402b-a52a-45ce8d60646d button.colab-df-convert');\n",
              "        buttonEl.style.display =\n",
              "          google.colab.kernel.accessAllowed ? 'block' : 'none';\n",
              "\n",
              "        async function convertToInteractive(key) {\n",
              "          const element = document.querySelector('#df-e167d8fb-10bd-402b-a52a-45ce8d60646d');\n",
              "          const dataTable =\n",
              "            await google.colab.kernel.invokeFunction('convertToInteractive',\n",
              "                                                     [key], {});\n",
              "          if (!dataTable) return;\n",
              "\n",
              "          const docLinkHtml = 'Like what you see? Visit the ' +\n",
              "            '<a target=\"_blank\" href=https://colab.research.google.com/notebooks/data_table.ipynb>data table notebook</a>'\n",
              "            + ' to learn more about interactive tables.';\n",
              "          element.innerHTML = '';\n",
              "          dataTable['output_type'] = 'display_data';\n",
              "          await google.colab.output.renderOutput(dataTable, element);\n",
              "          const docLink = document.createElement('div');\n",
              "          docLink.innerHTML = docLinkHtml;\n",
              "          element.appendChild(docLink);\n",
              "        }\n",
              "      </script>\n",
              "    </div>\n",
              "  </div>\n",
              "  "
            ]
          },
          "metadata": {},
          "execution_count": 52
        }
      ]
    },
    {
      "cell_type": "code",
      "source": [
        "# checking missing values and perform imputation \n",
        "data_line.check_missing_values(data_line.df_data)"
      ],
      "metadata": {
        "colab": {
          "base_uri": "https://localhost:8080/",
          "height": 459
        },
        "id": "aW8zP71XpT9j",
        "outputId": "54202c92-521a-49cc-d93a-bc5e145d0ce5"
      },
      "execution_count": 53,
      "outputs": [
        {
          "output_type": "stream",
          "name": "stdout",
          "text": [
            "checking if any missing or invalid value in here\n",
            "No Missing Values Found in DataSet\n"
          ]
        },
        {
          "output_type": "execute_result",
          "data": {
            "text/plain": [
              "        x1  x2  x3  x4  x5  x6  x7  x8  x9  x10  ...  x79  x80  x81   x82  \\\n",
              "0       37  19   0   3   0   0   0   0   0    0  ...    0    1    0    45   \n",
              "1       77  23   1   1   0   0   0   0   0    0  ...    1    0    0    77   \n",
              "2      126  50   1   4   1   0   1   2   0    3  ...    1    0    0    14   \n",
              "3       18  11   0   2   0   0   0   0   0    0  ...    1    0    0    62   \n",
              "4       55  15   0   2   2   0   0   0   0    0  ...    0    1    0   224   \n",
              "...    ...  ..  ..  ..  ..  ..  ..  ..  ..  ...  ...  ...  ...  ...   ...   \n",
              "11425   45  17   0   2   0   0   0   0   0    0  ...    0    0    0   448   \n",
              "11426   84  18   0   5   0   1   1   0   0    1  ...    1    0    0   211   \n",
              "11427  105  16   1   2   6   0   1   0   0    1  ...    0    0    0  2809   \n",
              "11428   38  30   0   2   0   0   0   0   0    0  ...    1    0    0    85   \n",
              "11429  477  14   1  24   0   1   1   9   0    9  ...    1    1    1     0   \n",
              "\n",
              "        x83      x84  x85  x86  x87  T  \n",
              "0        -1        0    1    1    4  1  \n",
              "1      5767        0    0    1    2  0  \n",
              "2      4004  5828815    0    1    0  0  \n",
              "3        -1   107721    0    0    3  1  \n",
              "4      8175     8725    0    0    6  1  \n",
              "...     ...      ...  ...  ...  ... ..  \n",
              "11425  5396     3980    0    0    6  1  \n",
              "11426  6728        0    0    1    0  0  \n",
              "11427  8515        8    0    1   10  1  \n",
              "11428  2836  2455493    0    0    4  1  \n",
              "11429    -1        0    1    1    0  0  \n",
              "\n",
              "[11430 rows x 88 columns]"
            ],
            "text/html": [
              "\n",
              "  <div id=\"df-70bcb19c-1d35-4baa-abc7-23d7a78b5575\">\n",
              "    <div class=\"colab-df-container\">\n",
              "      <div>\n",
              "<style scoped>\n",
              "    .dataframe tbody tr th:only-of-type {\n",
              "        vertical-align: middle;\n",
              "    }\n",
              "\n",
              "    .dataframe tbody tr th {\n",
              "        vertical-align: top;\n",
              "    }\n",
              "\n",
              "    .dataframe thead th {\n",
              "        text-align: right;\n",
              "    }\n",
              "</style>\n",
              "<table border=\"1\" class=\"dataframe\">\n",
              "  <thead>\n",
              "    <tr style=\"text-align: right;\">\n",
              "      <th></th>\n",
              "      <th>x1</th>\n",
              "      <th>x2</th>\n",
              "      <th>x3</th>\n",
              "      <th>x4</th>\n",
              "      <th>x5</th>\n",
              "      <th>x6</th>\n",
              "      <th>x7</th>\n",
              "      <th>x8</th>\n",
              "      <th>x9</th>\n",
              "      <th>x10</th>\n",
              "      <th>...</th>\n",
              "      <th>x79</th>\n",
              "      <th>x80</th>\n",
              "      <th>x81</th>\n",
              "      <th>x82</th>\n",
              "      <th>x83</th>\n",
              "      <th>x84</th>\n",
              "      <th>x85</th>\n",
              "      <th>x86</th>\n",
              "      <th>x87</th>\n",
              "      <th>T</th>\n",
              "    </tr>\n",
              "  </thead>\n",
              "  <tbody>\n",
              "    <tr>\n",
              "      <th>0</th>\n",
              "      <td>37</td>\n",
              "      <td>19</td>\n",
              "      <td>0</td>\n",
              "      <td>3</td>\n",
              "      <td>0</td>\n",
              "      <td>0</td>\n",
              "      <td>0</td>\n",
              "      <td>0</td>\n",
              "      <td>0</td>\n",
              "      <td>0</td>\n",
              "      <td>...</td>\n",
              "      <td>0</td>\n",
              "      <td>1</td>\n",
              "      <td>0</td>\n",
              "      <td>45</td>\n",
              "      <td>-1</td>\n",
              "      <td>0</td>\n",
              "      <td>1</td>\n",
              "      <td>1</td>\n",
              "      <td>4</td>\n",
              "      <td>1</td>\n",
              "    </tr>\n",
              "    <tr>\n",
              "      <th>1</th>\n",
              "      <td>77</td>\n",
              "      <td>23</td>\n",
              "      <td>1</td>\n",
              "      <td>1</td>\n",
              "      <td>0</td>\n",
              "      <td>0</td>\n",
              "      <td>0</td>\n",
              "      <td>0</td>\n",
              "      <td>0</td>\n",
              "      <td>0</td>\n",
              "      <td>...</td>\n",
              "      <td>1</td>\n",
              "      <td>0</td>\n",
              "      <td>0</td>\n",
              "      <td>77</td>\n",
              "      <td>5767</td>\n",
              "      <td>0</td>\n",
              "      <td>0</td>\n",
              "      <td>1</td>\n",
              "      <td>2</td>\n",
              "      <td>0</td>\n",
              "    </tr>\n",
              "    <tr>\n",
              "      <th>2</th>\n",
              "      <td>126</td>\n",
              "      <td>50</td>\n",
              "      <td>1</td>\n",
              "      <td>4</td>\n",
              "      <td>1</td>\n",
              "      <td>0</td>\n",
              "      <td>1</td>\n",
              "      <td>2</td>\n",
              "      <td>0</td>\n",
              "      <td>3</td>\n",
              "      <td>...</td>\n",
              "      <td>1</td>\n",
              "      <td>0</td>\n",
              "      <td>0</td>\n",
              "      <td>14</td>\n",
              "      <td>4004</td>\n",
              "      <td>5828815</td>\n",
              "      <td>0</td>\n",
              "      <td>1</td>\n",
              "      <td>0</td>\n",
              "      <td>0</td>\n",
              "    </tr>\n",
              "    <tr>\n",
              "      <th>3</th>\n",
              "      <td>18</td>\n",
              "      <td>11</td>\n",
              "      <td>0</td>\n",
              "      <td>2</td>\n",
              "      <td>0</td>\n",
              "      <td>0</td>\n",
              "      <td>0</td>\n",
              "      <td>0</td>\n",
              "      <td>0</td>\n",
              "      <td>0</td>\n",
              "      <td>...</td>\n",
              "      <td>1</td>\n",
              "      <td>0</td>\n",
              "      <td>0</td>\n",
              "      <td>62</td>\n",
              "      <td>-1</td>\n",
              "      <td>107721</td>\n",
              "      <td>0</td>\n",
              "      <td>0</td>\n",
              "      <td>3</td>\n",
              "      <td>1</td>\n",
              "    </tr>\n",
              "    <tr>\n",
              "      <th>4</th>\n",
              "      <td>55</td>\n",
              "      <td>15</td>\n",
              "      <td>0</td>\n",
              "      <td>2</td>\n",
              "      <td>2</td>\n",
              "      <td>0</td>\n",
              "      <td>0</td>\n",
              "      <td>0</td>\n",
              "      <td>0</td>\n",
              "      <td>0</td>\n",
              "      <td>...</td>\n",
              "      <td>0</td>\n",
              "      <td>1</td>\n",
              "      <td>0</td>\n",
              "      <td>224</td>\n",
              "      <td>8175</td>\n",
              "      <td>8725</td>\n",
              "      <td>0</td>\n",
              "      <td>0</td>\n",
              "      <td>6</td>\n",
              "      <td>1</td>\n",
              "    </tr>\n",
              "    <tr>\n",
              "      <th>...</th>\n",
              "      <td>...</td>\n",
              "      <td>...</td>\n",
              "      <td>...</td>\n",
              "      <td>...</td>\n",
              "      <td>...</td>\n",
              "      <td>...</td>\n",
              "      <td>...</td>\n",
              "      <td>...</td>\n",
              "      <td>...</td>\n",
              "      <td>...</td>\n",
              "      <td>...</td>\n",
              "      <td>...</td>\n",
              "      <td>...</td>\n",
              "      <td>...</td>\n",
              "      <td>...</td>\n",
              "      <td>...</td>\n",
              "      <td>...</td>\n",
              "      <td>...</td>\n",
              "      <td>...</td>\n",
              "      <td>...</td>\n",
              "      <td>...</td>\n",
              "    </tr>\n",
              "    <tr>\n",
              "      <th>11425</th>\n",
              "      <td>45</td>\n",
              "      <td>17</td>\n",
              "      <td>0</td>\n",
              "      <td>2</td>\n",
              "      <td>0</td>\n",
              "      <td>0</td>\n",
              "      <td>0</td>\n",
              "      <td>0</td>\n",
              "      <td>0</td>\n",
              "      <td>0</td>\n",
              "      <td>...</td>\n",
              "      <td>0</td>\n",
              "      <td>0</td>\n",
              "      <td>0</td>\n",
              "      <td>448</td>\n",
              "      <td>5396</td>\n",
              "      <td>3980</td>\n",
              "      <td>0</td>\n",
              "      <td>0</td>\n",
              "      <td>6</td>\n",
              "      <td>1</td>\n",
              "    </tr>\n",
              "    <tr>\n",
              "      <th>11426</th>\n",
              "      <td>84</td>\n",
              "      <td>18</td>\n",
              "      <td>0</td>\n",
              "      <td>5</td>\n",
              "      <td>0</td>\n",
              "      <td>1</td>\n",
              "      <td>1</td>\n",
              "      <td>0</td>\n",
              "      <td>0</td>\n",
              "      <td>1</td>\n",
              "      <td>...</td>\n",
              "      <td>1</td>\n",
              "      <td>0</td>\n",
              "      <td>0</td>\n",
              "      <td>211</td>\n",
              "      <td>6728</td>\n",
              "      <td>0</td>\n",
              "      <td>0</td>\n",
              "      <td>1</td>\n",
              "      <td>0</td>\n",
              "      <td>0</td>\n",
              "    </tr>\n",
              "    <tr>\n",
              "      <th>11427</th>\n",
              "      <td>105</td>\n",
              "      <td>16</td>\n",
              "      <td>1</td>\n",
              "      <td>2</td>\n",
              "      <td>6</td>\n",
              "      <td>0</td>\n",
              "      <td>1</td>\n",
              "      <td>0</td>\n",
              "      <td>0</td>\n",
              "      <td>1</td>\n",
              "      <td>...</td>\n",
              "      <td>0</td>\n",
              "      <td>0</td>\n",
              "      <td>0</td>\n",
              "      <td>2809</td>\n",
              "      <td>8515</td>\n",
              "      <td>8</td>\n",
              "      <td>0</td>\n",
              "      <td>1</td>\n",
              "      <td>10</td>\n",
              "      <td>1</td>\n",
              "    </tr>\n",
              "    <tr>\n",
              "      <th>11428</th>\n",
              "      <td>38</td>\n",
              "      <td>30</td>\n",
              "      <td>0</td>\n",
              "      <td>2</td>\n",
              "      <td>0</td>\n",
              "      <td>0</td>\n",
              "      <td>0</td>\n",
              "      <td>0</td>\n",
              "      <td>0</td>\n",
              "      <td>0</td>\n",
              "      <td>...</td>\n",
              "      <td>1</td>\n",
              "      <td>0</td>\n",
              "      <td>0</td>\n",
              "      <td>85</td>\n",
              "      <td>2836</td>\n",
              "      <td>2455493</td>\n",
              "      <td>0</td>\n",
              "      <td>0</td>\n",
              "      <td>4</td>\n",
              "      <td>1</td>\n",
              "    </tr>\n",
              "    <tr>\n",
              "      <th>11429</th>\n",
              "      <td>477</td>\n",
              "      <td>14</td>\n",
              "      <td>1</td>\n",
              "      <td>24</td>\n",
              "      <td>0</td>\n",
              "      <td>1</td>\n",
              "      <td>1</td>\n",
              "      <td>9</td>\n",
              "      <td>0</td>\n",
              "      <td>9</td>\n",
              "      <td>...</td>\n",
              "      <td>1</td>\n",
              "      <td>1</td>\n",
              "      <td>1</td>\n",
              "      <td>0</td>\n",
              "      <td>-1</td>\n",
              "      <td>0</td>\n",
              "      <td>1</td>\n",
              "      <td>1</td>\n",
              "      <td>0</td>\n",
              "      <td>0</td>\n",
              "    </tr>\n",
              "  </tbody>\n",
              "</table>\n",
              "<p>11430 rows × 88 columns</p>\n",
              "</div>\n",
              "      <button class=\"colab-df-convert\" onclick=\"convertToInteractive('df-70bcb19c-1d35-4baa-abc7-23d7a78b5575')\"\n",
              "              title=\"Convert this dataframe to an interactive table.\"\n",
              "              style=\"display:none;\">\n",
              "        \n",
              "  <svg xmlns=\"http://www.w3.org/2000/svg\" height=\"24px\"viewBox=\"0 0 24 24\"\n",
              "       width=\"24px\">\n",
              "    <path d=\"M0 0h24v24H0V0z\" fill=\"none\"/>\n",
              "    <path d=\"M18.56 5.44l.94 2.06.94-2.06 2.06-.94-2.06-.94-.94-2.06-.94 2.06-2.06.94zm-11 1L8.5 8.5l.94-2.06 2.06-.94-2.06-.94L8.5 2.5l-.94 2.06-2.06.94zm10 10l.94 2.06.94-2.06 2.06-.94-2.06-.94-.94-2.06-.94 2.06-2.06.94z\"/><path d=\"M17.41 7.96l-1.37-1.37c-.4-.4-.92-.59-1.43-.59-.52 0-1.04.2-1.43.59L10.3 9.45l-7.72 7.72c-.78.78-.78 2.05 0 2.83L4 21.41c.39.39.9.59 1.41.59.51 0 1.02-.2 1.41-.59l7.78-7.78 2.81-2.81c.8-.78.8-2.07 0-2.86zM5.41 20L4 18.59l7.72-7.72 1.47 1.35L5.41 20z\"/>\n",
              "  </svg>\n",
              "      </button>\n",
              "      \n",
              "  <style>\n",
              "    .colab-df-container {\n",
              "      display:flex;\n",
              "      flex-wrap:wrap;\n",
              "      gap: 12px;\n",
              "    }\n",
              "\n",
              "    .colab-df-convert {\n",
              "      background-color: #E8F0FE;\n",
              "      border: none;\n",
              "      border-radius: 50%;\n",
              "      cursor: pointer;\n",
              "      display: none;\n",
              "      fill: #1967D2;\n",
              "      height: 32px;\n",
              "      padding: 0 0 0 0;\n",
              "      width: 32px;\n",
              "    }\n",
              "\n",
              "    .colab-df-convert:hover {\n",
              "      background-color: #E2EBFA;\n",
              "      box-shadow: 0px 1px 2px rgba(60, 64, 67, 0.3), 0px 1px 3px 1px rgba(60, 64, 67, 0.15);\n",
              "      fill: #174EA6;\n",
              "    }\n",
              "\n",
              "    [theme=dark] .colab-df-convert {\n",
              "      background-color: #3B4455;\n",
              "      fill: #D2E3FC;\n",
              "    }\n",
              "\n",
              "    [theme=dark] .colab-df-convert:hover {\n",
              "      background-color: #434B5C;\n",
              "      box-shadow: 0px 1px 3px 1px rgba(0, 0, 0, 0.15);\n",
              "      filter: drop-shadow(0px 1px 2px rgba(0, 0, 0, 0.3));\n",
              "      fill: #FFFFFF;\n",
              "    }\n",
              "  </style>\n",
              "\n",
              "      <script>\n",
              "        const buttonEl =\n",
              "          document.querySelector('#df-70bcb19c-1d35-4baa-abc7-23d7a78b5575 button.colab-df-convert');\n",
              "        buttonEl.style.display =\n",
              "          google.colab.kernel.accessAllowed ? 'block' : 'none';\n",
              "\n",
              "        async function convertToInteractive(key) {\n",
              "          const element = document.querySelector('#df-70bcb19c-1d35-4baa-abc7-23d7a78b5575');\n",
              "          const dataTable =\n",
              "            await google.colab.kernel.invokeFunction('convertToInteractive',\n",
              "                                                     [key], {});\n",
              "          if (!dataTable) return;\n",
              "\n",
              "          const docLinkHtml = 'Like what you see? Visit the ' +\n",
              "            '<a target=\"_blank\" href=https://colab.research.google.com/notebooks/data_table.ipynb>data table notebook</a>'\n",
              "            + ' to learn more about interactive tables.';\n",
              "          element.innerHTML = '';\n",
              "          dataTable['output_type'] = 'display_data';\n",
              "          await google.colab.output.renderOutput(dataTable, element);\n",
              "          const docLink = document.createElement('div');\n",
              "          docLink.innerHTML = docLinkHtml;\n",
              "          element.appendChild(docLink);\n",
              "        }\n",
              "      </script>\n",
              "    </div>\n",
              "  </div>\n",
              "  "
            ]
          },
          "metadata": {},
          "execution_count": 53
        }
      ]
    },
    {
      "cell_type": "code",
      "source": [
        "#Print row number 49 to row 57 from input dataset along with its feature values (0.5)\n",
        "data_line.print_rows(49,57)"
      ],
      "metadata": {
        "colab": {
          "base_uri": "https://localhost:8080/"
        },
        "id": "weRlhYzhJDTD",
        "outputId": "39ffd594-7b45-47dc-d8ce-bea794c43e71"
      },
      "execution_count": 54,
      "outputs": [
        {
          "output_type": "stream",
          "name": "stdout",
          "text": [
            "Print row number 49 to row 57 from input dataset along with its feature values \n",
            "|    |   x1 |   x2 |   x3 |   x4 |   x5 |   x6 |   x7 |   x8 |   x9 |   x10 |   x11 |   x12 |   x13 |   x14 |   x15 |   x16 |   x17 |   x18 |   x19 |   x20 |   x21 |   x22 |   x23 |   x24 |   x25 |       x26 |      x27 |   x28 |   x29 |   x30 |   x31 |   x32 |   x33 |   x34 |   x35 |   x36 |   x37 |   x38 |   x39 |   x40 |   x41 |   x42 |   x43 |   x44 |   x45 |   x46 |   x47 |      x48 |   x49 |      x50 |   x51 |   x52 |   x53 |   x54 |   x55 |   x56 |   x57 |      x58 |       x59 |   x60 |   x61 |   x62 |      x63 |   x64 |       x65 |   x66 |   x67 |      x68 |   x69 |      x70 |     x71 |   x72 |   x73 |   x74 |       x75 |   x76 |   x77 |   x78 |   x79 |   x80 |   x81 |   x82 |   x83 |             x84 |   x85 |   x86 |   x87 |   T |\n",
            "|---:|-----:|-----:|-----:|-----:|-----:|-----:|-----:|-----:|-----:|------:|------:|------:|------:|------:|------:|------:|------:|------:|------:|------:|------:|------:|------:|------:|------:|----------:|---------:|------:|------:|------:|------:|------:|------:|------:|------:|------:|------:|------:|------:|------:|------:|------:|------:|------:|------:|------:|------:|---------:|------:|---------:|------:|------:|------:|------:|------:|------:|------:|---------:|----------:|------:|------:|------:|---------:|------:|----------:|------:|------:|---------:|------:|---------:|--------:|------:|------:|------:|----------:|------:|------:|------:|------:|------:|------:|------:|------:|----------------:|------:|------:|------:|----:|\n",
            "| 49 |  159 |   14 |    1 |    2 |    0 |    0 |    1 |    1 |    0 |     2 |     0 |     0 |     0 |     8 |     0 |     1 |     0 |     1 |     0 |     0 |     0 |     0 |     0 |     0 |     1 | 0.27044   | 0        |     0 |     0 |     0 |     0 |     0 |     2 |     0 |     0 |     0 |     0 |     1 |     0 |    12 |     4 |     3 |    10 |     3 |    40 |    10 |    40 | 11.4167  |  10   | 11.5455  |     0 |     0 |     0 |     0 |     0 |     0 |    13 | 0.923077 | 0.0769231 |     0 |     0 |     0 | 1        |     0 | 1         |     0 |     0 | 100      |     0 |   0      |  0      |     0 |     0 |     0 |   0       |     0 |     0 |     0 |     1 |     1 |     0 |   325 |  1500 |     0           |     0 |     1 |     0 |   0 |\n",
            "| 50 |   44 |   22 |    1 |    2 |    1 |    0 |    0 |    0 |    0 |     0 |     0 |     0 |     0 |     4 |     0 |     1 |     0 |     0 |     0 |     0 |     1 |     0 |     0 |     0 |     0 | 0.227273  | 0.136364 |     0 |     0 |     0 |     0 |     0 |     2 |     1 |     0 |     0 |     0 |     0 |     0 |     4 |     3 |     3 |     3 |     4 |    14 |    14 |     7 |  7       |   8.5 |  5.5     |     0 |     0 |     0 |     0 |     0 |     0 |    43 | 0.953488 | 0.0465116 |     0 |     0 |     0 | 0        |     0 | 0         |     0 |     1 |  93.75   |     0 | 100      |  0      |     0 |     0 |     0 |   0       |     0 |     0 |     0 |     1 |     0 |     0 |  1278 |  2739 | 11657           |     0 |     1 |     6 |   0 |\n",
            "| 51 |  103 |   19 |    0 |    3 |    1 |    1 |    1 |    0 |    0 |     1 |     0 |     0 |     0 |     4 |     0 |     1 |     0 |     0 |     0 |     0 |     0 |     0 |     0 |     0 |     0 | 0.0776699 | 0        |     0 |     0 |     0 |     0 |     0 |     3 |     0 |     0 |     0 |     0 |     0 |     0 |     9 |     2 |     2 |     4 |     2 |    44 |    10 |    44 |  9.22222 |   7   |  9.85714 |     0 |     0 |     0 |     0 |     0 |     0 |    64 | 0.84375  | 0.15625   |     0 |     2 |     0 | 0        |     0 | 0.3       |     0 |     1 |  45.4545 |     0 | 100      |  0      |     0 |     0 |     0 | 100       |     0 |     0 |     0 |     1 |     1 |     0 |   231 |   134 |     1.50832e+06 |     0 |     1 |     2 |   0 |\n",
            "| 52 |   46 |   20 |    0 |    4 |    0 |    0 |    0 |    0 |    0 |     0 |     0 |     0 |     0 |     5 |     0 |     1 |     0 |     0 |     0 |     0 |     0 |     0 |     0 |     0 |     1 | 0         | 0        |     0 |     0 |     0 |     0 |     0 |     3 |     0 |     0 |     0 |     0 |     0 |     0 |     7 |     1 |     2 |     4 |     2 |     7 |     7 |     7 |  4.28571 |   5   |  3.75    |     0 |     0 |     0 |     0 |     0 |     0 |     0 | 0        | 0         |     0 |     0 |     0 | 0        |     0 | 0         |     0 |     0 |   0      |     0 |   0      |  0      |     0 |     0 |     0 |   0       |     0 |     0 |     1 |     1 |     0 |     0 |   517 |  7802 |     0           |     0 |     1 |     5 |   0 |\n",
            "| 53 |   45 |   16 |    0 |    2 |    0 |    0 |    0 |    0 |    0 |     0 |     1 |     0 |     0 |     4 |     0 |     1 |     0 |     0 |     0 |     0 |     0 |     0 |     0 |     0 |     0 | 0         | 0        |     0 |     0 |     0 |     0 |     0 |     2 |     0 |     0 |     0 |     0 |     0 |     0 |     5 |     0 |     2 |     2 |     4 |    10 |     9 |    10 |  5.8     |   5.5 |  6       |     0 |     1 |     0 |     0 |     0 |     0 |   253 | 0.920949 | 0.0790514 |     0 |     0 |     0 | 0.45     |     0 | 0.2       |     0 |     0 | 100      |     0 | 100      |  0      |     0 |     0 |     0 |  63.6364  |     0 |     0 |     0 |     1 |     0 |     0 |   902 |  7133 |    12           |     0 |     0 |     7 |   1 |\n",
            "| 54 |   51 |   26 |    0 |    3 |    0 |    0 |    0 |    0 |    0 |     0 |     0 |     0 |     0 |     5 |     0 |     1 |     0 |     0 |     0 |     0 |     1 |     0 |     0 |     0 |     1 | 0         | 0        |     0 |     0 |     0 |     0 |     0 |     3 |     0 |     0 |     0 |     0 |     4 |     0 |     4 |     4 |     3 |     3 |     4 |    16 |    16 |    11 |  8.5     |   9.5 |  7.5     |     0 |     0 |     0 |     0 |     0 |     0 |    91 | 0.615385 | 0.384615  |     0 |     2 |     0 | 0.142857 |     0 | 0.0857143 |     0 |     1 |  28.5714 |     0 |  38.4615 | 61.5385 |     0 |     0 |     0 |  50       |     0 |     0 |     0 |     1 |     1 |     0 |   137 |  1690 |     0           |     0 |     1 |     2 |   0 |\n",
            "| 55 |   38 |   19 |    0 |    3 |    0 |    0 |    0 |    0 |    0 |     0 |     0 |     0 |     0 |     4 |     0 |     1 |     0 |     0 |     0 |     0 |     1 |     0 |     0 |     0 |     1 | 0         | 0        |     0 |     0 |     0 |     0 |     0 |     3 |     0 |     0 |     0 |     0 |     1 |     0 |     5 |     4 |     2 |     3 |     2 |    11 |    11 |     4 |  4.6     |   7   |  3       |     0 |     0 |     0 |     0 |     0 |     0 |   184 | 0.766304 | 0.233696  |     0 |     3 |     0 | 0.348837 |     0 | 0.0232558 |     1 |     1 |  82.8571 |     0 |  81.8182 | 18.1818 |     0 |     0 |     0 |   9.67742 |     0 |     0 |     0 |     1 |     1 |     0 |   237 |  1588 |     0           |     0 |     1 |     0 |   0 |\n",
            "| 56 |   81 |   27 |    1 |    2 |    0 |    0 |    0 |    0 |    0 |     0 |     0 |     0 |     0 |     5 |     0 |     1 |     0 |     0 |     0 |     0 |     1 |     0 |     0 |     0 |     1 | 0.283951  | 0        |     0 |     0 |     0 |     0 |     0 |     2 |     0 |     0 |     0 |     0 |     1 |     0 |     5 |     8 |     2 |     3 |     2 |    32 |    19 |    32 | 13.2     |  11   | 14.6667  |     0 |     0 |     0 |     0 |     0 |     0 |    30 | 0.966667 | 0.0333333 |     0 |     0 |     0 | 0        |     0 | 0         |     0 |     0 | 100      |     0 |  80      | 20      |     0 |     0 |     0 | 100       |     0 |     0 |     0 |     1 |     0 |     0 |    77 |  5767 |     0           |     0 |     1 |     2 |   0 |\n"
          ]
        }
      ]
    },
    {
      "cell_type": "code",
      "source": [
        "# getting tensor dataset\n",
        "x_tensor,y_tensor,xtest_tensor,ytest_tensor = data_line.x_tensor,data_line.y_tensor,data_line.xtest_tensor,data_line.ytest_tensor\n",
        "# data_line.get_summary_of_dataset()\n",
        "data_line.get_visuals()\n",
        "\n",
        "print(\"\\nTrain set Tensors \\n\")\n",
        "print(x_tensor.shape)\n",
        "print(y_tensor.shape)\n",
        "print(\"\\nTest set Tensors \\n\")\n",
        "print(xtest_tensor.shape)\n",
        "print(ytest_tensor.shape)"
      ],
      "metadata": {
        "colab": {
          "base_uri": "https://localhost:8080/"
        },
        "id": "kvCesDEQqBj3",
        "outputId": "c3a28b17-0ae4-45ca-bbd9-ea61b7738b99"
      },
      "execution_count": 55,
      "outputs": [
        {
          "output_type": "stream",
          "name": "stdout",
          "text": [
            "\n",
            "Train set Tensors \n",
            "\n",
            "torch.Size([9144, 87])\n",
            "torch.Size([9144])\n",
            "\n",
            "Test set Tensors \n",
            "\n",
            "torch.Size([2286, 87])\n",
            "torch.Size([2286])\n"
          ]
        }
      ]
    },
    {
      "cell_type": "code",
      "source": [
        "# Creating Tensor DataSets\n",
        "y_tensor = y_tensor.unsqueeze(1)\n",
        "train_ds = TensorDataset(x_tensor, y_tensor)\n",
        "#Pytorch’s DataLoader is responsible for managing batches. \n",
        "#You can create a DataLoader from any Dataset. DataLoader makes it easier to iterate over batches\n",
        "\n",
        "\n",
        "\n",
        "#For the validation/test dataset\n",
        "ytest_tensor = ytest_tensor.unsqueeze(1)\n",
        "test_ds = TensorDataset(xtest_tensor, ytest_tensor)\n"
      ],
      "metadata": {
        "id": "hd-jKVsIs0Jm"
      },
      "execution_count": 57,
      "outputs": []
    },
    {
      "cell_type": "code",
      "source": [
        "# Loading Datasets using DataLoader\n",
        "train_dl = DataLoader(train_ds, batch_size=87)\n",
        "test_loader = DataLoader(test_ds, batch_size=87)"
      ],
      "metadata": {
        "id": "gcaQW7MkscUT"
      },
      "execution_count": 70,
      "outputs": []
    },
    {
      "cell_type": "code",
      "source": [
        "# Binary Classification Model\n",
        "# from torch import nn\n",
        "# from torch.nn import functional as F\n",
        "\n",
        "# Build the Fully connected Deep Neural Network \n",
        "# TODO: CREATE NEURAL NETWORK MODULE\n",
        "class Net(nn.Module):\n",
        "  def __init__(self,input_nodes,hidden1,hidden2,output):\n",
        "    super(Net,self).__init__()\n",
        "    self.fc1 = nn.Linear(input_nodes,hidden1)\n",
        "    self.fc2 = nn.Linear(hidden1,hidden2)\n",
        "    self.fc3 = nn.Linear(hidden2,output)\n",
        "  def forward(self,x):\n",
        "    x = torch.relu(self.fc1(x))\n",
        "    x = torch.relu(self.fc2(x))\n",
        "    x = torch.sigmoid(self.fc3(x))\n",
        "    return x\n",
        "\n",
        "class BinaryClassification(nn.Module):\n",
        "    def __init__(self,input_nodes,hidden1,hidden2,output):\n",
        "        super(BinaryClassification, self).__init__()\n",
        "        print(dimensions_of_training_set)\n",
        "        self.layer_1 = nn.Linear(input_nodes, hidden1) \n",
        "        self.layer_2 = nn.Linear(hidden1, hidden2)\n",
        "        self.layer_out = nn.Linear(hidden2, output) \n",
        "        \n",
        "        \n",
        "        self.relu = nn.ReLU() # activation function\n",
        "        self.sigmoid =  nn.Sigmoid() # to give the single output\n",
        "        self.dropout = nn.Dropout(p=0.1)\n",
        "        self.batchnorm1 = nn.BatchNorm1d(hidden1) # normalization 1d after do first layer\n",
        "        self.batchnorm2 = nn.BatchNorm1d(hidden2) # normalization 1d after do after second layer\n",
        "        \n",
        "        \n",
        "    def forward(self, inputs):\n",
        "      # softmax ,leakyrelu,\n",
        "        x = self.relu(self.layer_1(inputs)) # activation function\n",
        "        x = self.batchnorm1(x)\n",
        "        x = self.relu(self.layer_2(x)) # activation function\n",
        "        x = self.batchnorm2(x)\n",
        "        x = self.dropout(x)\n",
        "        x = self.sigmoid(self.layer_out(x)) # activation function\n",
        "        return x\n",
        "\n",
        "    def compute_l1_loss(self, w):\n",
        "      return torch.abs(w).sum()\n",
        "\n",
        "    def compute_l2_loss(self, w):\n",
        "      return torch.square(w).sum()\n",
        " \n",
        "    "
      ],
      "metadata": {
        "id": "Q9Aid9Xgs8pB"
      },
      "execution_count": 125,
      "outputs": []
    },
    {
      "cell_type": "code",
      "source": [
        "# trainloader = DataLoader(data_line,batch_size=64,shuffle=False)\n",
        "dimensions_of_training_set=data_line.train_x.shape[1]\n",
        "# print(dimensions_of_training_set)\n",
        "n_hidden1 = 174  # Number of hidden nodes\n",
        "n_hidden2 = 348\n",
        "n_output =  1   # Number of output nodes = for binary classifier\n",
        "decay =0.1\n",
        "\n",
        "\n",
        "learning_rate=0.1  \n",
        "def build_model(model_type=1,hidden1=144,hidden2=100,optimizer='adam',use_regularizer=True,decay=0.1,learning_rate=0.1):\n",
        "  # TODO: add modules here\n",
        "    if not use_regularizer:\n",
        "      decay=0\n",
        "    if model_type ==1:\n",
        "      model = Net(dimensions_of_training_set,hidden1,hidden2,n_output)\n",
        "    elif model_type == 2:\n",
        "      model = BinaryClassification(dimensions_of_training_set,hidden1,hidden2,n_output)\n",
        "    loss_fn = nn.BCELoss()\n",
        "    if optimizer == 'adam':\n",
        "      optimizer = torch.optim.Adam(model.parameters(),lr=learning_rate,weight_decay=decay)\n",
        "    elif optimizer == 'sgd':\n",
        "      optimizer = torch.optim.SGD(model.parameters(), lr=learning_rate,weight_decay=decay)\n",
        "    # optimizer = torch.optim.SGD(model.parameters(), lr=learning_rate, weight_decay=decay)\n",
        "    return model, loss_fn,optimizer\n",
        "\n",
        "def accuracy(logits, labels):\n",
        "    acc = torchmetrics.functional.classification.accuracy(logits, labels,'binary')\n",
        "    return acc\n",
        "\n",
        "def train(dataloader, model, device, loss_fn, optimizer):\n",
        "    size = len(dataloader.dataset)\n",
        "    print(size)\n",
        "    model = model.to(device)\n",
        "    model.train()\n",
        "    for batch, (X, y) in enumerate(dataloader):\n",
        "        X, y = X.to(device), y.to(device)\n",
        "        # Compute prediction error\n",
        "        pred = model(X)\n",
        "        # _, preduc = torch.max(pred, 1)\n",
        "        # print(preduc.shape)\n",
        "        # print(y.shape)\n",
        "        loss = loss_fn(pred.unsqueeze(1),y)\n",
        "        # loss = loss_fn(pred,y)\n",
        "        acc = accuracy(pred.unsqueeze(1), y)\n",
        "        # Backpropagation\n",
        "        optimizer.zero_grad()\n",
        "        loss.backward()\n",
        "        optimizer.step()\n",
        "\n",
        "        if batch % 100 == 0:\n",
        "            loss, acc, current = loss.item(), acc.item(), batch * len(X)\n",
        "            print(f\"Train: loss: {loss:>7f} - acc: {acc:>7f}  [{current:>5d}/{size:>5d}]\")\n",
        "\n",
        "    model = model.to(device)\n",
        "    return loss.item(),acc.item()\n",
        "\n",
        "def test(dataloader, model, device, loss_fn):\n",
        "    size = len(dataloader.dataset)\n",
        "    num_batches = len(dataloader)\n",
        "    model = model.to(device)\n",
        "    model.eval()\n",
        "    test_loss, correct,acc = 0, 0,0\n",
        "    # for confusion matrix\n",
        "    predictions=[]\n",
        "    actuals=[]\n",
        "    predict=None\n",
        "    actual=None\n",
        "    with torch.no_grad():\n",
        "        for X, y in dataloader:\n",
        "            X, y = X.to(device), y.to(device)\n",
        "            pred = model(X)\n",
        "            acc+= accuracy(pred.unsqueeze(1), y)\n",
        "            # _, preduc = torch.max(pred, 1)\n",
        "            test_loss += loss_fn(pred.unsqueeze(1), y).item()\n",
        "            correct += (pred.argmax(1) == y).type(torch.float).sum().item()\n",
        "            y_pred_tag = torch.round(pred)\n",
        "            predict=y_pred_tag.cpu().detach().numpy()\n",
        "            actual=y.cpu().numpy().reshape((len(y.cpu().numpy()), 1))\n",
        "    test_loss /= num_batches\n",
        "    correct /= size\n",
        "    acc /= num_batches\n",
        "    # print(acc)\n",
        "    # print(f\"Test Error: \\n Accuracy: {(correct)*100:>0.1f}%, Avg loss: {test_loss:>8f} \\n\")\n",
        "    model = model.to(device)\n",
        "    return test_loss,acc.item(),predict,actual\n",
        "\n",
        "def train_test_loop(model_type=1,epochs=50,hidden1=144,hidden2=100,optimizer='adam',use_regularizer=True,decay=0.1,learning_rate=0.1,evaluate=True,learning_curve=False):\n",
        "  model, loss_fn,optimizer = build_model(model_type=model_type,hidden1=hidden1,hidden2=hidden1,optimizer=optimizer,use_regularizer=use_regularizer,decay=decay,learning_rate=learning_rate)\n",
        "  print(model)\n",
        "  test_acc=[]\n",
        "  test_loss=[]\n",
        "  train_acc=[]\n",
        "  train_loss=[]\n",
        "  predicts=[]\n",
        "  actuals=[]\n",
        "  for t in tqdm(range(epochs)):\n",
        "    train_los,train_ac=train(train_dl, model, device, loss_fn, optimizer)\n",
        "    train_acc.append(train_ac)\n",
        "    train_loss.append(train_los)\n",
        "    print(f'Train => Model_accuracy: {np.average(train_acc)} | Model Loss: {np.average(train_loss)}')\n",
        "    if evaluate:\n",
        "      test_los,test_ac,predict,actual=test(test_loader,model,device,loss_fn)\n",
        "      print(f'Test => Model_accuracy: {np.average(test_ac)} | Model Loss: {np.average(test_los)}')\n",
        "      test_loss.append(test_los)\n",
        "      test_acc.append(test_ac)\n",
        "      predicts.append(predict)\n",
        "      actuals.append(actual)\n",
        "  \n",
        "  # if len(actuals) > 0 or len(predicts) > 0:\n",
        "  #   print(actuals)\n",
        "    # cm = confusion_matrix(actuals,predicts)\n",
        "  print(\"----------------------------------------------------------------------------------------------\")\n",
        "  print(f\"Final Train Accuracy: {np.average(train_acc)} | Final Train Loss: {np.average(train_loss)}\")\n",
        "  print(f\"Final Test Accuracy: {np.average(test_acc)} | Final Test Loss: {np.average(test_loss)}\")\n",
        "  \n",
        "  if evaluate and learning_curve:\n",
        "    fig = plt.figure()\n",
        "    ax1 = plt.subplot2grid((2,1), (0,0))\n",
        "    ax2 = plt.subplot2grid((2,1), (1,0), sharex=ax1)\n",
        "    ax1.plot( train_acc, label=\"train_accuracy\")\n",
        "    ax1.plot(test_acc, label=\"test_accuracy\")\n",
        "    ax1.legend(loc=2)\n",
        "    ax2.plot(train_loss, label=\"train_loss\")\n",
        "    ax2.plot(test_loss, label=\"test_loss\")\n",
        "    ax2.legend(loc=2)\n",
        "    # plt.plot(final_train_accuracy_list,final_test_accuracy_list)\n",
        "    plt.show()\n",
        "      \n",
        "    # print(\"test_accuracy: {} | test_loss: {}\".format(test_ac.item(),test_los))\n"
      ],
      "metadata": {
        "id": "Ylada9RUVr5G"
      },
      "execution_count": 113,
      "outputs": []
    },
    {
      "cell_type": "code",
      "source": [
        "# Experiment with number of hidden layers, and number of neurons in the network\n",
        "train_test_loop(model_type=2,epochs=50,hidden1=174,hidden2=348,optimizer='adam',use_regularizer=False,decay=0.1,learning_rate=0.1,evaluate=False,learning_curve=True)\n"
      ],
      "metadata": {
        "colab": {
          "base_uri": "https://localhost:8080/"
        },
        "id": "uFtIDOETvotG",
        "outputId": "2c1daca3-aecb-456f-d08e-b34a764973e8"
      },
      "execution_count": 117,
      "outputs": [
        {
          "output_type": "stream",
          "name": "stdout",
          "text": [
            "87\n",
            "BinaryClassification(\n",
            "  (layer_1): Linear(in_features=87, out_features=174, bias=True)\n",
            "  (layer_2): Linear(in_features=174, out_features=174, bias=True)\n",
            "  (layer_out): Linear(in_features=174, out_features=1, bias=True)\n",
            "  (relu): ReLU()\n",
            "  (sigmoid): Sigmoid()\n",
            "  (dropout): Dropout(p=0.1, inplace=False)\n",
            "  (batchnorm1): BatchNorm1d(174, eps=1e-05, momentum=0.1, affine=True, track_running_stats=True)\n",
            "  (batchnorm2): BatchNorm1d(174, eps=1e-05, momentum=0.1, affine=True, track_running_stats=True)\n",
            ")\n"
          ]
        },
        {
          "output_type": "stream",
          "name": "stderr",
          "text": [
            "\r  0%|          | 0/50 [00:00<?, ?it/s]"
          ]
        },
        {
          "output_type": "stream",
          "name": "stdout",
          "text": [
            "9144\n",
            "Train: loss: 0.701177 - acc: 0.574713  [    0/ 9144]\n"
          ]
        },
        {
          "output_type": "stream",
          "name": "stderr",
          "text": [
            "\r  2%|▏         | 1/50 [00:01<01:01,  1.25s/it]"
          ]
        },
        {
          "output_type": "stream",
          "name": "stdout",
          "text": [
            "Train: loss: 0.169197 - acc: 0.977012  [ 8700/ 9144]\n",
            "Train => Model_accuracy: 0.8888888955116272 | Model Loss: 0.17849162220954895\n",
            "9144\n",
            "Train: loss: 0.151058 - acc: 0.954023  [    0/ 9144]\n"
          ]
        },
        {
          "output_type": "stream",
          "name": "stderr",
          "text": [
            "\r  4%|▍         | 2/50 [00:02<00:47,  1.00it/s]"
          ]
        },
        {
          "output_type": "stream",
          "name": "stdout",
          "text": [
            "Train: loss: 0.181968 - acc: 0.954023  [ 8700/ 9144]\n",
            "Train => Model_accuracy: 0.9444444477558136 | Model Loss: 0.13417720794677734\n",
            "9144\n",
            "Train: loss: 0.100901 - acc: 0.965517  [    0/ 9144]\n"
          ]
        },
        {
          "output_type": "stream",
          "name": "stderr",
          "text": [
            "\r  6%|▌         | 3/50 [00:02<00:44,  1.05it/s]"
          ]
        },
        {
          "output_type": "stream",
          "name": "stdout",
          "text": [
            "Train: loss: 0.142449 - acc: 0.954023  [ 8700/ 9144]\n",
            "Train => Model_accuracy: 0.9629629651705424 | Model Loss: 0.11530042191346486\n",
            "9144\n",
            "Train: loss: 0.100394 - acc: 0.965517  [    0/ 9144]\n"
          ]
        },
        {
          "output_type": "stream",
          "name": "stderr",
          "text": [
            "\r  8%|▊         | 4/50 [00:03<00:44,  1.03it/s]"
          ]
        },
        {
          "output_type": "stream",
          "name": "stdout",
          "text": [
            "Train: loss: 0.149585 - acc: 0.954023  [ 8700/ 9144]\n",
            "Train => Model_accuracy: 0.9722222238779068 | Model Loss: 0.09926821570843458\n",
            "9144\n",
            "Train: loss: 0.075071 - acc: 0.977012  [    0/ 9144]\n"
          ]
        },
        {
          "output_type": "stream",
          "name": "stderr",
          "text": [
            "\r 10%|█         | 5/50 [00:04<00:40,  1.11it/s]"
          ]
        },
        {
          "output_type": "stream",
          "name": "stdout",
          "text": [
            "Train: loss: 0.176131 - acc: 0.954023  [ 8700/ 9144]\n",
            "Train => Model_accuracy: 0.9777777791023254 | Model Loss: 0.10106918290257454\n",
            "9144\n",
            "Train: loss: 0.110704 - acc: 0.965517  [    0/ 9144]\n"
          ]
        },
        {
          "output_type": "stream",
          "name": "stderr",
          "text": [
            "\r 12%|█▏        | 6/50 [00:05<00:35,  1.26it/s]"
          ]
        },
        {
          "output_type": "stream",
          "name": "stdout",
          "text": [
            "Train: loss: 0.135685 - acc: 0.965517  [ 8700/ 9144]\n",
            "Train => Model_accuracy: 0.9629629651705424 | Model Loss: 0.11992163769900799\n",
            "9144\n",
            "Train: loss: 0.052016 - acc: 1.000000  [    0/ 9144]\n"
          ]
        },
        {
          "output_type": "stream",
          "name": "stderr",
          "text": [
            "\r 14%|█▍        | 7/50 [00:05<00:28,  1.50it/s]"
          ]
        },
        {
          "output_type": "stream",
          "name": "stdout",
          "text": [
            "Train: loss: 0.137473 - acc: 0.954023  [ 8700/ 9144]\n",
            "Train => Model_accuracy: 0.9682539701461792 | Model Loss: 0.11549992912581988\n",
            "9144\n",
            "Train: loss: 0.055070 - acc: 0.988506  [    0/ 9144]\n"
          ]
        },
        {
          "output_type": "stream",
          "name": "stderr",
          "text": [
            "\r 16%|█▌        | 8/50 [00:06<00:25,  1.65it/s]"
          ]
        },
        {
          "output_type": "stream",
          "name": "stdout",
          "text": [
            "Train: loss: 0.119407 - acc: 0.965517  [ 8700/ 9144]\n",
            "Train => Model_accuracy: 0.9722222238779068 | Model Loss: 0.10865469044074416\n",
            "9144\n",
            "Train: loss: 0.045503 - acc: 1.000000  [    0/ 9144]\n"
          ]
        },
        {
          "output_type": "stream",
          "name": "stderr",
          "text": [
            "\r 18%|█▊        | 9/50 [00:06<00:22,  1.79it/s]"
          ]
        },
        {
          "output_type": "stream",
          "name": "stdout",
          "text": [
            "Train: loss: 0.184719 - acc: 0.954023  [ 8700/ 9144]\n",
            "Train => Model_accuracy: 0.9753086434470283 | Model Loss: 0.11088226363062859\n",
            "9144\n",
            "Train: loss: 0.050706 - acc: 0.988506  [    0/ 9144]\n"
          ]
        },
        {
          "output_type": "stream",
          "name": "stderr",
          "text": [
            "\r 20%|██        | 10/50 [00:07<00:21,  1.85it/s]"
          ]
        },
        {
          "output_type": "stream",
          "name": "stdout",
          "text": [
            "Train: loss: 0.146626 - acc: 0.954023  [ 8700/ 9144]\n",
            "Train => Model_accuracy: 0.9777777791023254 | Model Loss: 0.11037153638899326\n",
            "9144\n",
            "Train: loss: 0.059061 - acc: 0.988506  [    0/ 9144]\n"
          ]
        },
        {
          "output_type": "stream",
          "name": "stderr",
          "text": [
            "\r 22%|██▏       | 11/50 [00:07<00:19,  1.96it/s]"
          ]
        },
        {
          "output_type": "stream",
          "name": "stdout",
          "text": [
            "Train: loss: 0.136644 - acc: 0.977012  [ 8700/ 9144]\n",
            "Train => Model_accuracy: 0.979797981002114 | Model Loss: 0.1077029870992357\n",
            "9144\n",
            "Train: loss: 0.050115 - acc: 1.000000  [    0/ 9144]\n"
          ]
        },
        {
          "output_type": "stream",
          "name": "stderr",
          "text": [
            "\r 24%|██▍       | 12/50 [00:08<00:18,  2.02it/s]"
          ]
        },
        {
          "output_type": "stream",
          "name": "stdout",
          "text": [
            "Train: loss: 0.141297 - acc: 0.965517  [ 8700/ 9144]\n",
            "Train => Model_accuracy: 0.9814814825852712 | Model Loss: 0.10554988216608763\n",
            "9144\n",
            "Train: loss: 0.062529 - acc: 0.988506  [    0/ 9144]\n"
          ]
        },
        {
          "output_type": "stream",
          "name": "stderr",
          "text": [
            "\r 26%|██▌       | 13/50 [00:08<00:18,  2.05it/s]"
          ]
        },
        {
          "output_type": "stream",
          "name": "stdout",
          "text": [
            "Train: loss: 0.092285 - acc: 0.988506  [ 8700/ 9144]\n",
            "Train => Model_accuracy: 0.9829059839248657 | Model Loss: 0.10171500106270497\n",
            "9144\n",
            "Train: loss: 0.052155 - acc: 1.000000  [    0/ 9144]\n"
          ]
        },
        {
          "output_type": "stream",
          "name": "stderr",
          "text": [
            "\r 28%|██▊       | 14/50 [00:09<00:17,  2.06it/s]"
          ]
        },
        {
          "output_type": "stream",
          "name": "stdout",
          "text": [
            "Train: loss: 0.127848 - acc: 0.954023  [ 8700/ 9144]\n",
            "Train => Model_accuracy: 0.9841269850730896 | Model Loss: 0.0971204766205379\n",
            "9144\n",
            "Train: loss: 0.049287 - acc: 0.988506  [    0/ 9144]\n"
          ]
        },
        {
          "output_type": "stream",
          "name": "stderr",
          "text": [
            "\r 30%|███       | 15/50 [00:09<00:17,  2.02it/s]"
          ]
        },
        {
          "output_type": "stream",
          "name": "stdout",
          "text": [
            "Train: loss: 0.141022 - acc: 0.977012  [ 8700/ 9144]\n",
            "Train => Model_accuracy: 0.9629629651705424 | Model Loss: 0.13121033906936647\n",
            "9144\n",
            "Train: loss: 0.020119 - acc: 1.000000  [    0/ 9144]\n"
          ]
        },
        {
          "output_type": "stream",
          "name": "stderr",
          "text": [
            "\r 32%|███▏      | 16/50 [00:10<00:17,  2.00it/s]"
          ]
        },
        {
          "output_type": "stream",
          "name": "stdout",
          "text": [
            "Train: loss: 0.136540 - acc: 0.965517  [ 8700/ 9144]\n",
            "Train => Model_accuracy: 0.9652777798473835 | Model Loss: 0.12394267902709544\n",
            "9144\n",
            "Train: loss: 0.055532 - acc: 0.988506  [    0/ 9144]\n"
          ]
        },
        {
          "output_type": "stream",
          "name": "stderr",
          "text": [
            "\r 34%|███▍      | 17/50 [00:10<00:16,  2.01it/s]"
          ]
        },
        {
          "output_type": "stream",
          "name": "stdout",
          "text": [
            "Train: loss: 0.203944 - acc: 0.942529  [ 8700/ 9144]\n",
            "Train => Model_accuracy: 0.9673202633857727 | Model Loss: 0.11782483011484146\n",
            "9144\n",
            "Train: loss: 0.041018 - acc: 0.988506  [    0/ 9144]\n"
          ]
        },
        {
          "output_type": "stream",
          "name": "stderr",
          "text": [
            "\r 36%|███▌      | 18/50 [00:10<00:15,  2.08it/s]"
          ]
        },
        {
          "output_type": "stream",
          "name": "stdout",
          "text": [
            "Train: loss: 0.141926 - acc: 0.965517  [ 8700/ 9144]\n",
            "Train => Model_accuracy: 0.9691358043087853 | Model Loss: 0.11171549449985226\n",
            "9144\n",
            "Train: loss: 0.027675 - acc: 1.000000  [    0/ 9144]\n"
          ]
        },
        {
          "output_type": "stream",
          "name": "stderr",
          "text": [
            "\r 38%|███▊      | 19/50 [00:11<00:15,  2.05it/s]"
          ]
        },
        {
          "output_type": "stream",
          "name": "stdout",
          "text": [
            "Train: loss: 0.180321 - acc: 0.942529  [ 8700/ 9144]\n",
            "Train => Model_accuracy: 0.9707602356609545 | Model Loss: 0.10625127673541244\n",
            "9144\n",
            "Train: loss: 0.038562 - acc: 0.988506  [    0/ 9144]\n"
          ]
        },
        {
          "output_type": "stream",
          "name": "stderr",
          "text": [
            "\r 40%|████      | 20/50 [00:11<00:14,  2.06it/s]"
          ]
        },
        {
          "output_type": "stream",
          "name": "stdout",
          "text": [
            "Train: loss: 0.298933 - acc: 0.931035  [ 8700/ 9144]\n",
            "Train => Model_accuracy: 0.9722222238779068 | Model Loss: 0.10099010200356133\n",
            "9144\n",
            "Train: loss: 0.039290 - acc: 0.988506  [    0/ 9144]\n"
          ]
        },
        {
          "output_type": "stream",
          "name": "stderr",
          "text": [
            "\r 42%|████▏     | 21/50 [00:12<00:14,  2.07it/s]"
          ]
        },
        {
          "output_type": "stream",
          "name": "stdout",
          "text": [
            "Train: loss: 0.142920 - acc: 0.977012  [ 8700/ 9144]\n",
            "Train => Model_accuracy: 0.973544975121816 | Model Loss: 0.096862295537167\n",
            "9144\n",
            "Train: loss: 0.006656 - acc: 1.000000  [    0/ 9144]\n"
          ]
        },
        {
          "output_type": "stream",
          "name": "stderr",
          "text": [
            "\r 44%|████▍     | 22/50 [00:12<00:13,  2.07it/s]"
          ]
        },
        {
          "output_type": "stream",
          "name": "stdout",
          "text": [
            "Train: loss: 0.161040 - acc: 0.977012  [ 8700/ 9144]\n",
            "Train => Model_accuracy: 0.9747474762526426 | Model Loss: 0.09291779523482546\n",
            "9144\n",
            "Train: loss: 0.040254 - acc: 0.988506  [    0/ 9144]\n"
          ]
        },
        {
          "output_type": "stream",
          "name": "stderr",
          "text": [
            "\r 46%|████▌     | 23/50 [00:13<00:12,  2.10it/s]"
          ]
        },
        {
          "output_type": "stream",
          "name": "stdout",
          "text": [
            "Train: loss: 0.122142 - acc: 0.988506  [ 8700/ 9144]\n",
            "Train => Model_accuracy: 0.975845412067745 | Model Loss: 0.091148211119656\n",
            "9144\n",
            "Train: loss: 0.051280 - acc: 0.988506  [    0/ 9144]\n"
          ]
        },
        {
          "output_type": "stream",
          "name": "stderr",
          "text": [
            "\r 48%|████▊     | 24/50 [00:13<00:12,  2.15it/s]"
          ]
        },
        {
          "output_type": "stream",
          "name": "stdout",
          "text": [
            "Train: loss: 0.287723 - acc: 0.965517  [ 8700/ 9144]\n",
            "Train => Model_accuracy: 0.976851853231589 | Model Loss: 0.08737939377412356\n",
            "9144\n",
            "Train: loss: 0.141843 - acc: 0.942529  [    0/ 9144]\n"
          ]
        },
        {
          "output_type": "stream",
          "name": "stderr",
          "text": [
            "\r 50%|█████     | 25/50 [00:14<00:11,  2.18it/s]"
          ]
        },
        {
          "output_type": "stream",
          "name": "stdout",
          "text": [
            "Train: loss: 0.253010 - acc: 0.965517  [ 8700/ 9144]\n",
            "Train => Model_accuracy: 0.9777777791023254 | Model Loss: 0.08492007261607797\n",
            "9144\n",
            "Train: loss: 0.066384 - acc: 0.977012  [    0/ 9144]\n"
          ]
        },
        {
          "output_type": "stream",
          "name": "stderr",
          "text": [
            "\r 52%|█████▏    | 26/50 [00:14<00:10,  2.21it/s]"
          ]
        },
        {
          "output_type": "stream",
          "name": "stdout",
          "text": [
            "Train: loss: 0.216492 - acc: 0.965517  [ 8700/ 9144]\n",
            "Train => Model_accuracy: 0.9786324799060822 | Model Loss: 0.08225691976258531\n",
            "9144\n",
            "Train: loss: 0.066032 - acc: 0.965517  [    0/ 9144]\n"
          ]
        },
        {
          "output_type": "stream",
          "name": "stderr",
          "text": [
            "\r 54%|█████▍    | 27/50 [00:15<00:10,  2.22it/s]"
          ]
        },
        {
          "output_type": "stream",
          "name": "stdout",
          "text": [
            "Train: loss: 0.659170 - acc: 0.942529  [ 8700/ 9144]\n",
            "Train => Model_accuracy: 0.9794238695391903 | Model Loss: 0.07932908228960717\n",
            "9144\n",
            "Train: loss: 0.766780 - acc: 0.919540  [    0/ 9144]\n"
          ]
        },
        {
          "output_type": "stream",
          "name": "stderr",
          "text": [
            "\r 56%|█████▌    | 28/50 [00:15<00:09,  2.21it/s]"
          ]
        },
        {
          "output_type": "stream",
          "name": "stdout",
          "text": [
            "Train: loss: 0.199966 - acc: 0.954023  [ 8700/ 9144]\n",
            "Train => Model_accuracy: 0.980158731341362 | Model Loss: 0.0778070421116094\n",
            "9144\n",
            "Train: loss: 0.039740 - acc: 0.988506  [    0/ 9144]\n"
          ]
        },
        {
          "output_type": "stream",
          "name": "stderr",
          "text": [
            "\r 58%|█████▊    | 29/50 [00:16<00:09,  2.23it/s]"
          ]
        },
        {
          "output_type": "stream",
          "name": "stdout",
          "text": [
            "Train: loss: 0.095750 - acc: 0.988506  [ 8700/ 9144]\n",
            "Train => Model_accuracy: 0.9808429130192461 | Model Loss: 0.07643886041779328\n",
            "9144\n",
            "Train: loss: 0.043690 - acc: 0.977012  [    0/ 9144]\n"
          ]
        },
        {
          "output_type": "stream",
          "name": "stderr",
          "text": [
            "\r 60%|██████    | 30/50 [00:16<00:09,  2.20it/s]"
          ]
        },
        {
          "output_type": "stream",
          "name": "stdout",
          "text": [
            "Train: loss: 0.130866 - acc: 0.977012  [ 8700/ 9144]\n",
            "Train => Model_accuracy: 0.9814814825852712 | Model Loss: 0.07403025165743506\n",
            "9144\n",
            "Train: loss: 0.036842 - acc: 0.977012  [    0/ 9144]\n"
          ]
        },
        {
          "output_type": "stream",
          "name": "stderr",
          "text": [
            "\r 62%|██████▏   | 31/50 [00:16<00:08,  2.22it/s]"
          ]
        },
        {
          "output_type": "stream",
          "name": "stdout",
          "text": [
            "Train: loss: 0.073892 - acc: 0.988506  [ 8700/ 9144]\n",
            "Train => Model_accuracy: 0.9820788541147786 | Model Loss: 0.07203532990834285\n",
            "9144\n",
            "Train: loss: 0.042986 - acc: 0.988506  [    0/ 9144]\n"
          ]
        },
        {
          "output_type": "stream",
          "name": "stderr",
          "text": [
            "\r 64%|██████▍   | 32/50 [00:17<00:08,  2.17it/s]"
          ]
        },
        {
          "output_type": "stream",
          "name": "stdout",
          "text": [
            "Train: loss: 0.076136 - acc: 0.988506  [ 8700/ 9144]\n",
            "Train => Model_accuracy: 0.9826388899236917 | Model Loss: 0.07017550109230797\n",
            "9144\n",
            "Train: loss: 0.037279 - acc: 0.977012  [    0/ 9144]\n"
          ]
        },
        {
          "output_type": "stream",
          "name": "stderr",
          "text": [
            "\r 66%|██████▌   | 33/50 [00:17<00:07,  2.18it/s]"
          ]
        },
        {
          "output_type": "stream",
          "name": "stdout",
          "text": [
            "Train: loss: 0.120509 - acc: 0.988506  [ 8700/ 9144]\n",
            "Train => Model_accuracy: 0.9831649841684283 | Model Loss: 0.0682201006866032\n",
            "9144\n",
            "Train: loss: 0.036930 - acc: 0.977012  [    0/ 9144]\n"
          ]
        },
        {
          "output_type": "stream",
          "name": "stderr",
          "text": [
            "\r 68%|██████▊   | 34/50 [00:18<00:07,  2.16it/s]"
          ]
        },
        {
          "output_type": "stream",
          "name": "stdout",
          "text": [
            "Train: loss: 0.104246 - acc: 0.988506  [ 8700/ 9144]\n",
            "Train => Model_accuracy: 0.9836601316928864 | Model Loss: 0.0677791407215409\n",
            "9144\n",
            "Train: loss: 0.012299 - acc: 1.000000  [    0/ 9144]\n"
          ]
        },
        {
          "output_type": "stream",
          "name": "stderr",
          "text": [
            "\r 70%|███████   | 35/50 [00:18<00:06,  2.15it/s]"
          ]
        },
        {
          "output_type": "stream",
          "name": "stdout",
          "text": [
            "Train: loss: 0.099444 - acc: 0.988506  [ 8700/ 9144]\n",
            "Train => Model_accuracy: 0.9841269850730896 | Model Loss: 0.06692347586088415\n",
            "9144\n",
            "Train: loss: 0.042896 - acc: 0.977012  [    0/ 9144]\n"
          ]
        },
        {
          "output_type": "stream",
          "name": "stderr",
          "text": [
            "\r 72%|███████▏  | 36/50 [00:19<00:06,  2.10it/s]"
          ]
        },
        {
          "output_type": "stream",
          "name": "stdout",
          "text": [
            "Train: loss: 0.095313 - acc: 0.988506  [ 8700/ 9144]\n",
            "Train => Model_accuracy: 0.9845679021543927 | Model Loss: 0.06542854190532428\n",
            "9144\n",
            "Train: loss: 0.025791 - acc: 0.988506  [    0/ 9144]\n"
          ]
        },
        {
          "output_type": "stream",
          "name": "stderr",
          "text": [
            "\r 74%|███████▍  | 37/50 [00:19<00:06,  2.06it/s]"
          ]
        },
        {
          "output_type": "stream",
          "name": "stdout",
          "text": [
            "Train: loss: 0.081618 - acc: 0.988506  [ 8700/ 9144]\n",
            "Train => Model_accuracy: 0.9849849858799496 | Model Loss: 0.06369776235943711\n",
            "9144\n",
            "Train: loss: 0.024928 - acc: 0.988506  [    0/ 9144]\n"
          ]
        },
        {
          "output_type": "stream",
          "name": "stderr",
          "text": [
            "\r 76%|███████▌  | 38/50 [00:20<00:05,  2.07it/s]"
          ]
        },
        {
          "output_type": "stream",
          "name": "stdout",
          "text": [
            "Train: loss: 0.055517 - acc: 0.988506  [ 8700/ 9144]\n",
            "Train => Model_accuracy: 0.9853801178304773 | Model Loss: 0.062063260834149425\n",
            "9144\n",
            "Train: loss: 0.051757 - acc: 0.977012  [    0/ 9144]\n"
          ]
        },
        {
          "output_type": "stream",
          "name": "stderr",
          "text": [
            "\r 78%|███████▊  | 39/50 [00:20<00:05,  2.10it/s]"
          ]
        },
        {
          "output_type": "stream",
          "name": "stdout",
          "text": [
            "Train: loss: 0.078236 - acc: 0.988506  [ 8700/ 9144]\n",
            "Train => Model_accuracy: 0.9829059839248657 | Model Loss: 0.06271848058363852\n",
            "9144\n",
            "Train: loss: 0.028128 - acc: 0.988506  [    0/ 9144]\n"
          ]
        },
        {
          "output_type": "stream",
          "name": "stderr",
          "text": [
            "\r 80%|████████  | 40/50 [00:21<00:04,  2.10it/s]"
          ]
        },
        {
          "output_type": "stream",
          "name": "stdout",
          "text": [
            "Train: loss: 0.086130 - acc: 0.988506  [ 8700/ 9144]\n",
            "Train => Model_accuracy: 0.9833333343267441 | Model Loss: 0.06212081075354945\n",
            "9144\n",
            "Train: loss: 0.043238 - acc: 0.988506  [    0/ 9144]\n"
          ]
        },
        {
          "output_type": "stream",
          "name": "stderr",
          "text": [
            "\r 82%|████████▏ | 41/50 [00:21<00:04,  2.08it/s]"
          ]
        },
        {
          "output_type": "stream",
          "name": "stdout",
          "text": [
            "Train: loss: 0.120444 - acc: 0.988506  [ 8700/ 9144]\n",
            "Train => Model_accuracy: 0.9837398383675552 | Model Loss: 0.060890477238699975\n",
            "9144\n",
            "Train: loss: 0.062540 - acc: 0.977012  [    0/ 9144]\n"
          ]
        },
        {
          "output_type": "stream",
          "name": "stderr",
          "text": [
            "\r 84%|████████▍ | 42/50 [00:22<00:03,  2.08it/s]"
          ]
        },
        {
          "output_type": "stream",
          "name": "stdout",
          "text": [
            "Train: loss: 0.058282 - acc: 0.988506  [ 8700/ 9144]\n",
            "Train => Model_accuracy: 0.9841269850730896 | Model Loss: 0.059666575506396057\n",
            "9144\n",
            "Train: loss: 0.079262 - acc: 0.965517  [    0/ 9144]\n"
          ]
        },
        {
          "output_type": "stream",
          "name": "stderr",
          "text": [
            "\r 86%|████████▌ | 43/50 [00:22<00:03,  2.05it/s]"
          ]
        },
        {
          "output_type": "stream",
          "name": "stdout",
          "text": [
            "Train: loss: 0.107200 - acc: 0.988506  [ 8700/ 9144]\n",
            "Train => Model_accuracy: 0.9844961249551107 | Model Loss: 0.05864981098133031\n",
            "9144\n",
            "Train: loss: 0.031756 - acc: 0.977012  [    0/ 9144]\n"
          ]
        },
        {
          "output_type": "stream",
          "name": "stderr",
          "text": [
            "\r 88%|████████▊ | 44/50 [00:23<00:02,  2.04it/s]"
          ]
        },
        {
          "output_type": "stream",
          "name": "stdout",
          "text": [
            "Train: loss: 0.109685 - acc: 0.988506  [ 8700/ 9144]\n",
            "Train => Model_accuracy: 0.9848484857515856 | Model Loss: 0.057821100405734877\n",
            "9144\n",
            "Train: loss: 0.018463 - acc: 0.988506  [    0/ 9144]\n"
          ]
        },
        {
          "output_type": "stream",
          "name": "stderr",
          "text": [
            "\r 90%|█████████ | 45/50 [00:23<00:02,  2.06it/s]"
          ]
        },
        {
          "output_type": "stream",
          "name": "stdout",
          "text": [
            "Train: loss: 0.151828 - acc: 0.965517  [ 8700/ 9144]\n",
            "Train => Model_accuracy: 0.9851851860682169 | Model Loss: 0.056537294955584606\n",
            "9144\n",
            "Train: loss: 0.020682 - acc: 0.988506  [    0/ 9144]\n"
          ]
        },
        {
          "output_type": "stream",
          "name": "stderr",
          "text": [
            "\r 92%|█████████▏| 46/50 [00:24<00:01,  2.03it/s]"
          ]
        },
        {
          "output_type": "stream",
          "name": "stdout",
          "text": [
            "Train: loss: 0.035158 - acc: 0.988506  [ 8700/ 9144]\n",
            "Train => Model_accuracy: 0.985507247240647 | Model Loss: 0.05668151644733924\n",
            "9144\n",
            "Train: loss: 0.029806 - acc: 0.988506  [    0/ 9144]\n"
          ]
        },
        {
          "output_type": "stream",
          "name": "stderr",
          "text": [
            "\r 94%|█████████▍| 47/50 [00:24<00:01,  2.02it/s]"
          ]
        },
        {
          "output_type": "stream",
          "name": "stdout",
          "text": [
            "Train: loss: 0.093495 - acc: 0.965517  [ 8700/ 9144]\n",
            "Train => Model_accuracy: 0.9858156036823353 | Model Loss: 0.05549994914690615\n",
            "9144\n",
            "Train: loss: 0.023474 - acc: 0.988506  [    0/ 9144]\n"
          ]
        },
        {
          "output_type": "stream",
          "name": "stderr",
          "text": [
            "\r 96%|█████████▌| 48/50 [00:25<00:01,  1.95it/s]"
          ]
        },
        {
          "output_type": "stream",
          "name": "stdout",
          "text": [
            "Train: loss: 0.173140 - acc: 0.988506  [ 8700/ 9144]\n",
            "Train => Model_accuracy: 0.9861111119389534 | Model Loss: 0.05434472916484386\n",
            "9144\n",
            "Train: loss: 0.020749 - acc: 0.988506  [    0/ 9144]\n"
          ]
        },
        {
          "output_type": "stream",
          "name": "stderr",
          "text": [
            "\r 98%|█████████▊| 49/50 [00:25<00:00,  1.99it/s]"
          ]
        },
        {
          "output_type": "stream",
          "name": "stdout",
          "text": [
            "Train: loss: 0.045872 - acc: 0.977012  [ 8700/ 9144]\n",
            "Train => Model_accuracy: 0.9863945586340768 | Model Loss: 0.053532305452512335\n",
            "9144\n",
            "Train: loss: 0.012892 - acc: 1.000000  [    0/ 9144]\n"
          ]
        },
        {
          "output_type": "stream",
          "name": "stderr",
          "text": [
            "100%|██████████| 50/50 [00:26<00:00,  1.90it/s]"
          ]
        },
        {
          "output_type": "stream",
          "name": "stdout",
          "text": [
            "Train: loss: 0.233065 - acc: 0.965517  [ 8700/ 9144]\n",
            "Train => Model_accuracy: 0.9866666674613953 | Model Loss: 0.05246189220913948\n",
            "----------------------------------------------------------------------------------------------\n",
            "Final Train Accuracy: 0.9866666674613953 | Final Train Loss: 0.05246189220913948\n",
            "Final Test Accuracy: nan | Final Test Loss: nan\n"
          ]
        },
        {
          "output_type": "stream",
          "name": "stderr",
          "text": [
            "\n",
            "/usr/local/lib/python3.8/dist-packages/numpy/lib/function_base.py:380: RuntimeWarning: Mean of empty slice.\n",
            "  avg = a.mean(axis)\n",
            "/usr/local/lib/python3.8/dist-packages/numpy/core/_methods.py:189: RuntimeWarning: invalid value encountered in double_scalars\n",
            "  ret = ret.dtype.type(ret / rcount)\n"
          ]
        }
      ]
    },
    {
      "cell_type": "code",
      "source": [
        "# trainloader = DataLoader(data_line,batch_size=64,shuffle=False)\n",
        "dimensions_of_training_set=data_line.train_x.shape[1]\n",
        "n_hidden1 = 300  # Number of hidden nodes\n",
        "n_hidden2 = 100\n",
        "n_output =  1   # Number of output nodes = for binary classifier\n",
        "\n",
        "learning_rate=0.2   \n",
        "device = torch.device(\"cuda:0\" if torch.cuda.is_available() else \"cpu\")\n",
        "model = BinaryClassification(dimensions_of_training_set,n_hidden1,n_hidden2,n_output).to(device)\n",
        "model2 = Net(dimensions_of_training_set,n_hidden1,n_hidden2,n_output)\n",
        "print(model2)\n",
        "y=model(train_ds.tensors[0]).to(device)\n",
        "print(y.mean())\n",
        "s=make_dot(y.mean(), params=dict(model.named_parameters()))\n",
        "s.render()\n",
        "make_dot(y.mean(), params=dict(model.named_parameters()), show_attrs=True, show_saved=True)\n",
        "\n",
        "optimizer = torch.optim.Adam(model.parameters(),lr=learning_rate)\n",
        "loss_fn = nn.BCELoss()\n",
        "print(model)"
      ],
      "metadata": {
        "colab": {
          "base_uri": "https://localhost:8080/"
        },
        "id": "DU5bHDZEt0F0",
        "outputId": "4a2e7e5c-9a5c-49ef-fdc7-016d4e1a7b58"
      },
      "execution_count": 118,
      "outputs": [
        {
          "output_type": "stream",
          "name": "stdout",
          "text": [
            "87\n",
            "Net(\n",
            "  (fc1): Linear(in_features=87, out_features=300, bias=True)\n",
            "  (fc2): Linear(in_features=300, out_features=100, bias=True)\n",
            "  (fc3): Linear(in_features=100, out_features=1, bias=True)\n",
            ")\n",
            "tensor(0.5192, grad_fn=<MeanBackward0>)\n",
            "BinaryClassification(\n",
            "  (layer_1): Linear(in_features=87, out_features=300, bias=True)\n",
            "  (layer_2): Linear(in_features=300, out_features=100, bias=True)\n",
            "  (layer_out): Linear(in_features=100, out_features=1, bias=True)\n",
            "  (relu): ReLU()\n",
            "  (sigmoid): Sigmoid()\n",
            "  (dropout): Dropout(p=0.1, inplace=False)\n",
            "  (batchnorm1): BatchNorm1d(300, eps=1e-05, momentum=0.1, affine=True, track_running_stats=True)\n",
            "  (batchnorm2): BatchNorm1d(100, eps=1e-05, momentum=0.1, affine=True, track_running_stats=True)\n",
            ")\n"
          ]
        }
      ]
    },
    {
      "cell_type": "code",
      "source": [
        "# print(data_line.train_y)\n",
        "# weight = class_weight.compute_class_weight(class_weight='balanced', classes=np.unique(data_line.train_y), y=data_line.train_y)\n",
        "# # weight = {i : weight[i] for i in np.unique(data_line.train_y)}\n",
        "# weight"
      ],
      "metadata": {
        "id": "DXlfkjPB586Z"
      },
      "execution_count": null,
      "outputs": []
    },
    {
      "cell_type": "code",
      "source": [
        "# Training Model\n",
        "final_train_accuracy_list=[]\n",
        "final_train_loss_list=[]\n",
        "def train_model(train_dl, model, epochs=50, lr=1e-5,regularizer='l1',l1_l2_weight=0.5,weight_decay=0 ,momentum=0.9, save_path='datapredemo.pth'):\n",
        "    # Define your optimisation function for reducing loss when weights are calculated \n",
        "    # and propogated through the network\n",
        "    best_accuracy=0.0\n",
        "    start = time.time()\n",
        "    loss_function = nn.BCEWithLogitsLoss()\n",
        "    optimizer = torch.optim.Adam(model.parameters(),lr=learning_rate,weight_decay=weight_decay)\n",
        "    loss = 0.0\n",
        "    train_loss_list = []\n",
        "    train_accuracy_list =[]\n",
        "    print('Beginning Training')\n",
        "    for epoch in tqdm(range(epochs)):\n",
        "        running_train_loss = 0.0 \n",
        "        running_accuracy = 0.0 \n",
        "        running_vall_loss = 0.0 \n",
        "        print('-' * 10)\n",
        "        model.train()\n",
        "        # Iterate through training data loader\n",
        "        for i, (inputs, outputs) in enumerate(train_dl):\n",
        "            optimizer.zero_grad()\n",
        "            predicted_outputs = model(inputs)\n",
        "            _, preds = torch.max(predicted_outputs.data,1) #Get the class labels\n",
        "            parameters = []\n",
        "            for parameter in model.parameters():\n",
        "                parameters.append(parameter.view(-1))\n",
        "            train_loss = loss_function(predicted_outputs.unsqueeze(1), outputs) # model.compute_l1_loss(torch.cat(parameters)) * l1_l2_weight # + (l1_l2_weight* torch.cat([parameter.view(-1) for parameter in model.parameters()]))\n",
        "            \n",
        "            # print(torch.cat(parameters))\n",
        "            # print(model.compute_l1_loss(torch.cat(parameters)) * l1_l2_weight)\n",
        "      # l1 = l1_weight * mlp.compute_l1_loss(torch.cat(parameters))\n",
        "      # l2 = l2_weight * mlp.compute_l2_loss(torch.cat(parameters))\n",
        "            train_accuracy= binary_acc(predicted_outputs.unsqueeze(1), outputs)\n",
        "            train_loss.backward()\n",
        "            optimizer.step()\n",
        "            running_train_loss +=train_loss.item()\n",
        "            running_accuracy+=train_accuracy.item()\n",
        "            # accur.append(acc)\n",
        "            # print(\"epoch {}\\tloss : {}\\t accuracy : {}\".format(i,loss,acc))\n",
        "        \n",
        "        train_loss_value = running_train_loss/len(train_dl) \n",
        "        train_accuracy_value =running_accuracy/len(train_dl)\n",
        "        print(f'Epoch {epoch+0:03}: | Loss: {train_loss_value:.5f} | Acc: {train_accuracy_value:.3f}')\n",
        "        print('Epoch {}/{} and Last loss: {} and Last Accuracy: {} and train_loss_value: {}'.format(epoch+1, epochs,train_loss.item(),train_accuracy.item(),train_loss_value))\n",
        "        train_loss_list.append(train_loss_value)\n",
        "        train_accuracy_list.append(train_accuracy_value)\n",
        "\n",
        "    print('Last iteration loss value: '+str(train_loss.item()))\n",
        "    print('Last Iteration Accuracy Value: {}'.format(train_accuracy.item()))\n",
        "    time_delta = time.time() - start\n",
        "    print('Training complete in {:.0f}m {:.0f}s'.format(\n",
        "        time_delta // 60, time_delta % 60\n",
        "    ))\n",
        "    final_train_accuracy_list.extend(train_accuracy_list)\n",
        "    final_train_loss_list.extend(train_loss_list)\n",
        "    plt.plot(train_loss_list)\n",
        "\n",
        "    print(train_accuracy_list)\n",
        "    plt.show()\n",
        "    plt.plot(train_accuracy_list)\n",
        "    plt.show()\n",
        "    return model"
      ],
      "metadata": {
        "id": "52cj7icMuNV6"
      },
      "execution_count": 121,
      "outputs": []
    },
    {
      "cell_type": "code",
      "source": [
        "trained_model=train_model(train_dl,model,epochs=50,lr=1e-5)\n",
        "print(final_train_accuracy_list)\n",
        "print(final_train_loss_list)"
      ],
      "metadata": {
        "colab": {
          "base_uri": "https://localhost:8080/",
          "height": 1000
        },
        "id": "EiHp9drnuchU",
        "outputId": "a940ec47-5462-40ec-c2fb-76b0e9ea4a4e"
      },
      "execution_count": 122,
      "outputs": [
        {
          "output_type": "stream",
          "name": "stdout",
          "text": [
            "Beginning Training\n"
          ]
        },
        {
          "output_type": "stream",
          "name": "stderr",
          "text": [
            "\r  0%|          | 0/50 [00:00<?, ?it/s]"
          ]
        },
        {
          "output_type": "stream",
          "name": "stdout",
          "text": [
            "----------\n"
          ]
        },
        {
          "output_type": "stream",
          "name": "stderr",
          "text": [
            "\r  2%|▏         | 1/50 [00:00<00:21,  2.25it/s]"
          ]
        },
        {
          "output_type": "stream",
          "name": "stdout",
          "text": [
            "Epoch 000: | Loss: 0.56857 | Acc: 85.613\n",
            "Epoch 1/50 and Last loss: 0.43989020586013794 and Last Accuracy: 100.0 and train_loss_value: 0.5685692350819426\n",
            "----------\n"
          ]
        },
        {
          "output_type": "stream",
          "name": "stderr",
          "text": [
            "\r  4%|▍         | 2/50 [00:01<00:25,  1.86it/s]"
          ]
        },
        {
          "output_type": "stream",
          "name": "stdout",
          "text": [
            "Epoch 001: | Loss: 0.56180 | Acc: 87.981\n",
            "Epoch 2/50 and Last loss: 0.48209965229034424 and Last Accuracy: 89.0 and train_loss_value: 0.5617972935708064\n",
            "----------\n"
          ]
        },
        {
          "output_type": "stream",
          "name": "stderr",
          "text": [
            "\r  6%|▌         | 3/50 [00:01<00:31,  1.51it/s]"
          ]
        },
        {
          "output_type": "stream",
          "name": "stdout",
          "text": [
            "Epoch 002: | Loss: 0.56811 | Acc: 86.519\n",
            "Epoch 3/50 and Last loss: 0.43989020586013794 and Last Accuracy: 100.0 and train_loss_value: 0.5681112869730536\n",
            "----------\n"
          ]
        },
        {
          "output_type": "stream",
          "name": "stderr",
          "text": [
            "\r  8%|▊         | 4/50 [00:02<00:29,  1.59it/s]"
          ]
        },
        {
          "output_type": "stream",
          "name": "stdout",
          "text": [
            "Epoch 003: | Loss: 0.56192 | Acc: 87.726\n",
            "Epoch 4/50 and Last loss: 0.43989020586013794 and Last Accuracy: 100.0 and train_loss_value: 0.5619203316153221\n",
            "----------\n"
          ]
        },
        {
          "output_type": "stream",
          "name": "stderr",
          "text": [
            "\r 10%|█         | 5/50 [00:03<00:28,  1.55it/s]"
          ]
        },
        {
          "output_type": "stream",
          "name": "stdout",
          "text": [
            "Epoch 004: | Loss: 0.55600 | Acc: 89.679\n",
            "Epoch 5/50 and Last loss: 0.43989020586013794 and Last Accuracy: 100.0 and train_loss_value: 0.5560047421252953\n",
            "----------\n"
          ]
        },
        {
          "output_type": "stream",
          "name": "stderr",
          "text": [
            "\r 12%|█▏        | 6/50 [00:03<00:29,  1.51it/s]"
          ]
        },
        {
          "output_type": "stream",
          "name": "stdout",
          "text": [
            "Epoch 005: | Loss: 0.56337 | Acc: 87.311\n",
            "Epoch 6/50 and Last loss: 0.43989020586013794 and Last Accuracy: 100.0 and train_loss_value: 0.5633725793856494\n",
            "----------\n"
          ]
        },
        {
          "output_type": "stream",
          "name": "stderr",
          "text": [
            "\r 14%|█▍        | 7/50 [00:04<00:27,  1.54it/s]"
          ]
        },
        {
          "output_type": "stream",
          "name": "stdout",
          "text": [
            "Epoch 006: | Loss: 0.55195 | Acc: 90.028\n",
            "Epoch 7/50 and Last loss: 0.43989020586013794 and Last Accuracy: 100.0 and train_loss_value: 0.5519479943333931\n",
            "----------\n"
          ]
        },
        {
          "output_type": "stream",
          "name": "stderr",
          "text": [
            "\r 16%|█▌        | 8/50 [00:05<00:26,  1.56it/s]"
          ]
        },
        {
          "output_type": "stream",
          "name": "stdout",
          "text": [
            "Epoch 007: | Loss: 0.55966 | Acc: 88.670\n",
            "Epoch 8/50 and Last loss: 0.43989020586013794 and Last Accuracy: 100.0 and train_loss_value: 0.5596562196623605\n",
            "----------\n"
          ]
        },
        {
          "output_type": "stream",
          "name": "stderr",
          "text": [
            "\r 18%|█▊        | 9/50 [00:05<00:25,  1.58it/s]"
          ]
        },
        {
          "output_type": "stream",
          "name": "stdout",
          "text": [
            "Epoch 008: | Loss: 0.56341 | Acc: 85.538\n",
            "Epoch 9/50 and Last loss: 0.5243092179298401 and Last Accuracy: 78.0 and train_loss_value: 0.5634059248105535\n",
            "----------\n"
          ]
        },
        {
          "output_type": "stream",
          "name": "stderr",
          "text": [
            "\r 20%|██        | 10/50 [00:06<00:25,  1.55it/s]"
          ]
        },
        {
          "output_type": "stream",
          "name": "stdout",
          "text": [
            "Epoch 009: | Loss: 0.55801 | Acc: 88.915\n",
            "Epoch 10/50 and Last loss: 0.43989020586013794 and Last Accuracy: 100.0 and train_loss_value: 0.5580057558023704\n",
            "----------\n"
          ]
        },
        {
          "output_type": "stream",
          "name": "stderr",
          "text": [
            "\r 22%|██▏       | 11/50 [00:07<00:27,  1.44it/s]"
          ]
        },
        {
          "output_type": "stream",
          "name": "stdout",
          "text": [
            "Epoch 010: | Loss: 0.55627 | Acc: 90.038\n",
            "Epoch 11/50 and Last loss: 0.43989020586013794 and Last Accuracy: 100.0 and train_loss_value: 0.5562690901306441\n",
            "----------\n"
          ]
        },
        {
          "output_type": "stream",
          "name": "stderr",
          "text": [
            "\r 24%|██▍       | 12/50 [00:08<00:28,  1.33it/s]"
          ]
        },
        {
          "output_type": "stream",
          "name": "stdout",
          "text": [
            "Epoch 011: | Loss: 0.55486 | Acc: 89.113\n",
            "Epoch 12/50 and Last loss: 0.5665186643600464 and Last Accuracy: 67.0 and train_loss_value: 0.5548593744916736\n",
            "----------\n"
          ]
        },
        {
          "output_type": "stream",
          "name": "stderr",
          "text": [
            "\r 26%|██▌       | 13/50 [00:08<00:27,  1.33it/s]"
          ]
        },
        {
          "output_type": "stream",
          "name": "stdout",
          "text": [
            "Epoch 012: | Loss: 0.56555 | Acc: 86.981\n",
            "Epoch 13/50 and Last loss: 0.43989020586013794 and Last Accuracy: 100.0 and train_loss_value: 0.565554436647667\n",
            "----------\n"
          ]
        },
        {
          "output_type": "stream",
          "name": "stderr",
          "text": [
            "\r 28%|██▊       | 14/50 [00:09<00:27,  1.31it/s]"
          ]
        },
        {
          "output_type": "stream",
          "name": "stdout",
          "text": [
            "Epoch 013: | Loss: 0.56980 | Acc: 87.613\n",
            "Epoch 14/50 and Last loss: 0.43989020586013794 and Last Accuracy: 100.0 and train_loss_value: 0.5698041196139354\n",
            "----------\n"
          ]
        },
        {
          "output_type": "stream",
          "name": "stderr",
          "text": [
            "\r 30%|███       | 15/50 [00:10<00:27,  1.28it/s]"
          ]
        },
        {
          "output_type": "stream",
          "name": "stdout",
          "text": [
            "Epoch 014: | Loss: 0.56318 | Acc: 88.255\n",
            "Epoch 15/50 and Last loss: 0.6087281703948975 and Last Accuracy: 56.0 and train_loss_value: 0.5631807710764543\n",
            "----------\n"
          ]
        },
        {
          "output_type": "stream",
          "name": "stderr",
          "text": [
            "\r 32%|███▏      | 16/50 [00:10<00:24,  1.38it/s]"
          ]
        },
        {
          "output_type": "stream",
          "name": "stdout",
          "text": [
            "Epoch 015: | Loss: 0.56478 | Acc: 85.764\n",
            "Epoch 16/50 and Last loss: 0.43989020586013794 and Last Accuracy: 100.0 and train_loss_value: 0.5647805501829903\n",
            "----------\n"
          ]
        },
        {
          "output_type": "stream",
          "name": "stderr",
          "text": [
            "\r 34%|███▍      | 17/50 [00:11<00:21,  1.51it/s]"
          ]
        },
        {
          "output_type": "stream",
          "name": "stdout",
          "text": [
            "Epoch 016: | Loss: 0.57295 | Acc: 87.679\n",
            "Epoch 17/50 and Last loss: 0.4820996820926666 and Last Accuracy: 89.0 and train_loss_value: 0.5729493327298254\n",
            "----------\n"
          ]
        },
        {
          "output_type": "stream",
          "name": "stderr",
          "text": [
            "\r 36%|███▌      | 18/50 [00:12<00:20,  1.60it/s]"
          ]
        },
        {
          "output_type": "stream",
          "name": "stdout",
          "text": [
            "Epoch 017: | Loss: 0.55598 | Acc: 89.415\n",
            "Epoch 18/50 and Last loss: 0.4820996820926666 and Last Accuracy: 89.0 and train_loss_value: 0.5559787224486189\n",
            "----------\n"
          ]
        },
        {
          "output_type": "stream",
          "name": "stderr",
          "text": [
            "\r 38%|███▊      | 19/50 [00:12<00:18,  1.68it/s]"
          ]
        },
        {
          "output_type": "stream",
          "name": "stdout",
          "text": [
            "Epoch 018: | Loss: 0.55357 | Acc: 89.830\n",
            "Epoch 19/50 and Last loss: 0.4820996820926666 and Last Accuracy: 89.0 and train_loss_value: 0.5535701735402053\n",
            "----------\n"
          ]
        },
        {
          "output_type": "stream",
          "name": "stderr",
          "text": [
            "\r 40%|████      | 20/50 [00:13<00:17,  1.74it/s]"
          ]
        },
        {
          "output_type": "stream",
          "name": "stdout",
          "text": [
            "Epoch 019: | Loss: 0.55380 | Acc: 89.840\n",
            "Epoch 20/50 and Last loss: 0.4820996820926666 and Last Accuracy: 89.0 and train_loss_value: 0.5538015936343175\n",
            "----------\n"
          ]
        },
        {
          "output_type": "stream",
          "name": "stderr",
          "text": [
            "\r 42%|████▏     | 21/50 [00:13<00:15,  1.82it/s]"
          ]
        },
        {
          "output_type": "stream",
          "name": "stdout",
          "text": [
            "Epoch 020: | Loss: 0.55626 | Acc: 89.434\n",
            "Epoch 21/50 and Last loss: 0.43989020586013794 and Last Accuracy: 100.0 and train_loss_value: 0.5562582898814723\n",
            "----------\n"
          ]
        },
        {
          "output_type": "stream",
          "name": "stderr",
          "text": [
            "\r 44%|████▍     | 22/50 [00:14<00:15,  1.83it/s]"
          ]
        },
        {
          "output_type": "stream",
          "name": "stdout",
          "text": [
            "Epoch 021: | Loss: 0.56707 | Acc: 88.028\n",
            "Epoch 22/50 and Last loss: 0.43989020586013794 and Last Accuracy: 100.0 and train_loss_value: 0.5670729020856461\n",
            "----------\n"
          ]
        },
        {
          "output_type": "stream",
          "name": "stderr",
          "text": [
            "\r 46%|████▌     | 23/50 [00:14<00:14,  1.89it/s]"
          ]
        },
        {
          "output_type": "stream",
          "name": "stdout",
          "text": [
            "Epoch 022: | Loss: 0.55598 | Acc: 89.358\n",
            "Epoch 23/50 and Last loss: 0.4820996820926666 and Last Accuracy: 89.0 and train_loss_value: 0.5559766166052729\n",
            "----------\n"
          ]
        },
        {
          "output_type": "stream",
          "name": "stderr",
          "text": [
            "\r 48%|████▊     | 24/50 [00:15<00:14,  1.85it/s]"
          ]
        },
        {
          "output_type": "stream",
          "name": "stdout",
          "text": [
            "Epoch 023: | Loss: 0.55728 | Acc: 88.472\n",
            "Epoch 24/50 and Last loss: 0.6087281703948975 and Last Accuracy: 56.0 and train_loss_value: 0.557278426188343\n",
            "----------\n"
          ]
        },
        {
          "output_type": "stream",
          "name": "stderr",
          "text": [
            "\r 50%|█████     | 25/50 [00:15<00:13,  1.86it/s]"
          ]
        },
        {
          "output_type": "stream",
          "name": "stdout",
          "text": [
            "Epoch 024: | Loss: 0.58152 | Acc: 81.679\n",
            "Epoch 25/50 and Last loss: 0.6776297688484192 and Last Accuracy: 44.0 and train_loss_value: 0.5815195649299981\n",
            "----------\n"
          ]
        },
        {
          "output_type": "stream",
          "name": "stderr",
          "text": [
            "\r 52%|█████▏    | 26/50 [00:16<00:12,  1.93it/s]"
          ]
        },
        {
          "output_type": "stream",
          "name": "stdout",
          "text": [
            "Epoch 025: | Loss: 0.58044 | Acc: 81.566\n",
            "Epoch 26/50 and Last loss: 0.5665186643600464 and Last Accuracy: 67.0 and train_loss_value: 0.5804405516048647\n",
            "----------\n"
          ]
        },
        {
          "output_type": "stream",
          "name": "stderr",
          "text": [
            "\r 54%|█████▍    | 27/50 [00:16<00:12,  1.88it/s]"
          ]
        },
        {
          "output_type": "stream",
          "name": "stdout",
          "text": [
            "Epoch 026: | Loss: 0.56957 | Acc: 84.623\n",
            "Epoch 27/50 and Last loss: 0.5243091583251953 and Last Accuracy: 78.0 and train_loss_value: 0.5695690833172709\n",
            "----------\n"
          ]
        },
        {
          "output_type": "stream",
          "name": "stderr",
          "text": [
            "\r 56%|█████▌    | 28/50 [00:17<00:11,  1.90it/s]"
          ]
        },
        {
          "output_type": "stream",
          "name": "stdout",
          "text": [
            "Epoch 027: | Loss: 0.56154 | Acc: 87.500\n",
            "Epoch 28/50 and Last loss: 0.5243091583251953 and Last Accuracy: 78.0 and train_loss_value: 0.5615403579091126\n",
            "----------\n"
          ]
        },
        {
          "output_type": "stream",
          "name": "stderr",
          "text": [
            "\r 58%|█████▊    | 29/50 [00:17<00:10,  1.96it/s]"
          ]
        },
        {
          "output_type": "stream",
          "name": "stdout",
          "text": [
            "Epoch 028: | Loss: 0.56147 | Acc: 87.425\n",
            "Epoch 29/50 and Last loss: 0.5243091583251953 and Last Accuracy: 78.0 and train_loss_value: 0.5614673394077229\n",
            "----------\n"
          ]
        },
        {
          "output_type": "stream",
          "name": "stderr",
          "text": [
            "\r 60%|██████    | 30/50 [00:18<00:10,  1.95it/s]"
          ]
        },
        {
          "output_type": "stream",
          "name": "stdout",
          "text": [
            "Epoch 029: | Loss: 0.56076 | Acc: 87.481\n",
            "Epoch 30/50 and Last loss: 0.5665186643600464 and Last Accuracy: 67.0 and train_loss_value: 0.5607628063210901\n",
            "----------\n"
          ]
        },
        {
          "output_type": "stream",
          "name": "stderr",
          "text": [
            "\r 62%|██████▏   | 31/50 [00:18<00:09,  1.91it/s]"
          ]
        },
        {
          "output_type": "stream",
          "name": "stdout",
          "text": [
            "Epoch 030: | Loss: 0.56031 | Acc: 87.632\n",
            "Epoch 31/50 and Last loss: 0.5665186643600464 and Last Accuracy: 67.0 and train_loss_value: 0.5603093583628816\n",
            "----------\n"
          ]
        },
        {
          "output_type": "stream",
          "name": "stderr",
          "text": [
            "\r 64%|██████▍   | 32/50 [00:19<00:09,  1.86it/s]"
          ]
        },
        {
          "output_type": "stream",
          "name": "stdout",
          "text": [
            "Epoch 031: | Loss: 0.56703 | Acc: 85.472\n",
            "Epoch 32/50 and Last loss: 0.6087281703948975 and Last Accuracy: 56.0 and train_loss_value: 0.5670326492696438\n",
            "----------\n"
          ]
        },
        {
          "output_type": "stream",
          "name": "stderr",
          "text": [
            "\r 66%|██████▌   | 33/50 [00:19<00:09,  1.88it/s]"
          ]
        },
        {
          "output_type": "stream",
          "name": "stdout",
          "text": [
            "Epoch 032: | Loss: 0.57406 | Acc: 83.311\n",
            "Epoch 33/50 and Last loss: 0.6087281703948975 and Last Accuracy: 56.0 and train_loss_value: 0.5740556323303366\n",
            "----------\n"
          ]
        },
        {
          "output_type": "stream",
          "name": "stderr",
          "text": [
            "\r 68%|██████▊   | 34/50 [00:20<00:09,  1.76it/s]"
          ]
        },
        {
          "output_type": "stream",
          "name": "stdout",
          "text": [
            "Epoch 033: | Loss: 0.57003 | Acc: 84.368\n",
            "Epoch 34/50 and Last loss: 0.5665186643600464 and Last Accuracy: 67.0 and train_loss_value: 0.5700313516382901\n",
            "----------\n"
          ]
        },
        {
          "output_type": "stream",
          "name": "stderr",
          "text": [
            "\r 70%|███████   | 35/50 [00:21<00:08,  1.78it/s]"
          ]
        },
        {
          "output_type": "stream",
          "name": "stdout",
          "text": [
            "Epoch 034: | Loss: 0.55960 | Acc: 87.208\n",
            "Epoch 35/50 and Last loss: 0.5665186643600464 and Last Accuracy: 67.0 and train_loss_value: 0.5595959559926447\n",
            "----------\n"
          ]
        },
        {
          "output_type": "stream",
          "name": "stderr",
          "text": [
            "\r 72%|███████▏  | 36/50 [00:21<00:07,  1.81it/s]"
          ]
        },
        {
          "output_type": "stream",
          "name": "stdout",
          "text": [
            "Epoch 035: | Loss: 0.55955 | Acc: 87.208\n",
            "Epoch 36/50 and Last loss: 0.5665186643600464 and Last Accuracy: 67.0 and train_loss_value: 0.5595547641223332\n",
            "----------\n"
          ]
        },
        {
          "output_type": "stream",
          "name": "stderr",
          "text": [
            "\r 74%|███████▍  | 37/50 [00:22<00:07,  1.83it/s]"
          ]
        },
        {
          "output_type": "stream",
          "name": "stdout",
          "text": [
            "Epoch 036: | Loss: 0.55804 | Acc: 87.642\n",
            "Epoch 37/50 and Last loss: 0.5243092179298401 and Last Accuracy: 78.0 and train_loss_value: 0.5580425824759141\n",
            "----------\n"
          ]
        },
        {
          "output_type": "stream",
          "name": "stderr",
          "text": [
            "\r 76%|███████▌  | 38/50 [00:22<00:06,  1.90it/s]"
          ]
        },
        {
          "output_type": "stream",
          "name": "stdout",
          "text": [
            "Epoch 037: | Loss: 0.55395 | Acc: 88.830\n",
            "Epoch 38/50 and Last loss: 0.5243092179298401 and Last Accuracy: 78.0 and train_loss_value: 0.5539493628267972\n",
            "----------\n"
          ]
        },
        {
          "output_type": "stream",
          "name": "stderr",
          "text": [
            "\r 78%|███████▊  | 39/50 [00:23<00:05,  1.85it/s]"
          ]
        },
        {
          "output_type": "stream",
          "name": "stdout",
          "text": [
            "Epoch 038: | Loss: 0.55412 | Acc: 88.802\n",
            "Epoch 39/50 and Last loss: 0.5243092179298401 and Last Accuracy: 78.0 and train_loss_value: 0.5541206795089649\n",
            "----------\n"
          ]
        },
        {
          "output_type": "stream",
          "name": "stderr",
          "text": [
            "\r 80%|████████  | 40/50 [00:23<00:05,  1.87it/s]"
          ]
        },
        {
          "output_type": "stream",
          "name": "stdout",
          "text": [
            "Epoch 039: | Loss: 0.54960 | Acc: 90.425\n",
            "Epoch 40/50 and Last loss: 0.4820996820926666 and Last Accuracy: 89.0 and train_loss_value: 0.5495974370893443\n",
            "----------\n"
          ]
        },
        {
          "output_type": "stream",
          "name": "stderr",
          "text": [
            "\r 82%|████████▏ | 41/50 [00:24<00:04,  1.88it/s]"
          ]
        },
        {
          "output_type": "stream",
          "name": "stdout",
          "text": [
            "Epoch 040: | Loss: 0.54888 | Acc: 90.594\n",
            "Epoch 41/50 and Last loss: 0.4820996820926666 and Last Accuracy: 89.0 and train_loss_value: 0.5488813002154512\n",
            "----------\n"
          ]
        },
        {
          "output_type": "stream",
          "name": "stderr",
          "text": [
            "\r 84%|████████▍ | 42/50 [00:24<00:04,  1.89it/s]"
          ]
        },
        {
          "output_type": "stream",
          "name": "stdout",
          "text": [
            "Epoch 041: | Loss: 0.55120 | Acc: 90.642\n",
            "Epoch 42/50 and Last loss: 0.43989020586013794 and Last Accuracy: 100.0 and train_loss_value: 0.5512026953247359\n",
            "----------\n"
          ]
        },
        {
          "output_type": "stream",
          "name": "stderr",
          "text": [
            "\r 86%|████████▌ | 43/50 [00:25<00:03,  1.85it/s]"
          ]
        },
        {
          "output_type": "stream",
          "name": "stdout",
          "text": [
            "Epoch 042: | Loss: 0.57365 | Acc: 87.462\n",
            "Epoch 43/50 and Last loss: 0.43989020586013794 and Last Accuracy: 100.0 and train_loss_value: 0.5736484063683815\n",
            "----------\n"
          ]
        },
        {
          "output_type": "stream",
          "name": "stderr",
          "text": [
            "\r 88%|████████▊ | 44/50 [00:25<00:03,  1.86it/s]"
          ]
        },
        {
          "output_type": "stream",
          "name": "stdout",
          "text": [
            "Epoch 043: | Loss: 0.56386 | Acc: 88.142\n",
            "Epoch 44/50 and Last loss: 0.43989020586013794 and Last Accuracy: 100.0 and train_loss_value: 0.5638581685862452\n",
            "----------\n"
          ]
        },
        {
          "output_type": "stream",
          "name": "stderr",
          "text": [
            "\r 90%|█████████ | 45/50 [00:26<00:02,  1.91it/s]"
          ]
        },
        {
          "output_type": "stream",
          "name": "stdout",
          "text": [
            "Epoch 044: | Loss: 0.55710 | Acc: 88.896\n",
            "Epoch 45/50 and Last loss: 0.43989020586013794 and Last Accuracy: 100.0 and train_loss_value: 0.5571008369607745\n",
            "----------\n"
          ]
        },
        {
          "output_type": "stream",
          "name": "stderr",
          "text": [
            "\r 92%|█████████▏| 46/50 [00:26<00:02,  1.96it/s]"
          ]
        },
        {
          "output_type": "stream",
          "name": "stdout",
          "text": [
            "Epoch 045: | Loss: 0.55684 | Acc: 88.943\n",
            "Epoch 46/50 and Last loss: 0.43989020586013794 and Last Accuracy: 100.0 and train_loss_value: 0.5568427707789079\n",
            "----------\n"
          ]
        },
        {
          "output_type": "stream",
          "name": "stderr",
          "text": [
            "\r 94%|█████████▍| 47/50 [00:27<00:01,  1.97it/s]"
          ]
        },
        {
          "output_type": "stream",
          "name": "stdout",
          "text": [
            "Epoch 046: | Loss: 0.55702 | Acc: 88.906\n",
            "Epoch 47/50 and Last loss: 0.43989020586013794 and Last Accuracy: 100.0 and train_loss_value: 0.5570184869586297\n",
            "----------\n"
          ]
        },
        {
          "output_type": "stream",
          "name": "stderr",
          "text": [
            "\r 96%|█████████▌| 48/50 [00:27<00:01,  1.93it/s]"
          ]
        },
        {
          "output_type": "stream",
          "name": "stdout",
          "text": [
            "Epoch 047: | Loss: 0.55697 | Acc: 88.915\n",
            "Epoch 48/50 and Last loss: 0.43989020586013794 and Last Accuracy: 100.0 and train_loss_value: 0.5569663503259983\n",
            "----------\n"
          ]
        },
        {
          "output_type": "stream",
          "name": "stderr",
          "text": [
            "\r 98%|█████████▊| 49/50 [00:28<00:00,  1.94it/s]"
          ]
        },
        {
          "output_type": "stream",
          "name": "stdout",
          "text": [
            "Epoch 048: | Loss: 0.55648 | Acc: 89.000\n",
            "Epoch 49/50 and Last loss: 0.43989020586013794 and Last Accuracy: 100.0 and train_loss_value: 0.5564800006038738\n",
            "----------\n"
          ]
        },
        {
          "output_type": "stream",
          "name": "stderr",
          "text": [
            "100%|██████████| 50/50 [00:28<00:00,  1.73it/s]"
          ]
        },
        {
          "output_type": "stream",
          "name": "stdout",
          "text": [
            "Epoch 049: | Loss: 0.55526 | Acc: 88.302\n",
            "Epoch 50/50 and Last loss: 0.4820996820926666 and Last Accuracy: 89.0 and train_loss_value: 0.5552621885852994\n",
            "Last iteration loss value: 0.4820996820926666\n",
            "Last Iteration Accuracy Value: 89.0\n",
            "Training complete in 0m 29s\n",
            "[85.61320754716981, 87.98113207547169, 86.51886792452831, 87.72641509433963, 89.67924528301887, 87.31132075471699, 90.02830188679245, 88.66981132075472, 85.5377358490566, 88.91509433962264, 90.0377358490566, 89.11320754716981, 86.98113207547169, 87.61320754716981, 88.25471698113208, 85.76415094339623, 87.67924528301887, 89.41509433962264, 89.83018867924528, 89.83962264150944, 89.43396226415095, 88.02830188679245, 89.35849056603773, 88.47169811320755, 81.67924528301887, 81.56603773584905, 84.62264150943396, 87.5, 87.4245283018868, 87.48113207547169, 87.63207547169812, 85.47169811320755, 83.31132075471699, 84.36792452830188, 87.20754716981132, 87.20754716981132, 87.64150943396227, 88.83018867924528, 88.80188679245283, 90.4245283018868, 90.59433962264151, 90.64150943396227, 87.4622641509434, 88.14150943396227, 88.89622641509433, 88.94339622641509, 88.90566037735849, 88.91509433962264, 89.0, 88.30188679245283]\n"
          ]
        },
        {
          "output_type": "stream",
          "name": "stderr",
          "text": [
            "\n"
          ]
        },
        {
          "output_type": "display_data",
          "data": {
            "text/plain": [
              "<Figure size 432x288 with 1 Axes>"
            ],
            "image/png": "[encoded data removed]"
          },
          "metadata": {
            "needs_background": "light"
          }
        },
        {
          "output_type": "display_data",
          "data": {
            "text/plain": [
              "<Figure size 432x288 with 1 Axes>"
            ],
            "image/png": "[encoded data removed]"
          },
          "metadata": {
            "needs_background": "light"
          }
        },
        {
          "output_type": "stream",
          "name": "stdout",
          "text": [
            "[85.61320754716981, 87.98113207547169, 86.51886792452831, 87.72641509433963, 89.67924528301887, 87.31132075471699, 90.02830188679245, 88.66981132075472, 85.5377358490566, 88.91509433962264, 90.0377358490566, 89.11320754716981, 86.98113207547169, 87.61320754716981, 88.25471698113208, 85.76415094339623, 87.67924528301887, 89.41509433962264, 89.83018867924528, 89.83962264150944, 89.43396226415095, 88.02830188679245, 89.35849056603773, 88.47169811320755, 81.67924528301887, 81.56603773584905, 84.62264150943396, 87.5, 87.4245283018868, 87.48113207547169, 87.63207547169812, 85.47169811320755, 83.31132075471699, 84.36792452830188, 87.20754716981132, 87.20754716981132, 87.64150943396227, 88.83018867924528, 88.80188679245283, 90.4245283018868, 90.59433962264151, 90.64150943396227, 87.4622641509434, 88.14150943396227, 88.89622641509433, 88.94339622641509, 88.90566037735849, 88.91509433962264, 89.0, 88.30188679245283]\n",
            "[0.5685692350819426, 0.5617972935708064, 0.5681112869730536, 0.5619203316153221, 0.5560047421252953, 0.5633725793856494, 0.5519479943333931, 0.5596562196623605, 0.5634059248105535, 0.5580057558023704, 0.5562690901306441, 0.5548593744916736, 0.565554436647667, 0.5698041196139354, 0.5631807710764543, 0.5647805501829903, 0.5729493327298254, 0.5559787224486189, 0.5535701735402053, 0.5538015936343175, 0.5562582898814723, 0.5670729020856461, 0.5559766166052729, 0.557278426188343, 0.5815195649299981, 0.5804405516048647, 0.5695690833172709, 0.5615403579091126, 0.5614673394077229, 0.5607628063210901, 0.5603093583628816, 0.5670326492696438, 0.5740556323303366, 0.5700313516382901, 0.5595959559926447, 0.5595547641223332, 0.5580425824759141, 0.5539493628267972, 0.5541206795089649, 0.5495974370893443, 0.5488813002154512, 0.5512026953247359, 0.5736484063683815, 0.5638581685862452, 0.5571008369607745, 0.5568427707789079, 0.5570184869586297, 0.5569663503259983, 0.5564800006038738, 0.5552621885852994]\n"
          ]
        }
      ]
    },
    {
      "cell_type": "code",
      "source": [
        "# Testing Model\n",
        "import math\n",
        "final_test_loss_list=[]\n",
        "final_test_accuracy_list = []\n",
        "def test_model(test_dl, model,epochs=50, beta=0.2):\n",
        "    preds = []\n",
        "    loss_function = nn.BCEWithLogitsLoss()\n",
        "    actuals = []\n",
        "    test_loss_list=[]\n",
        "    test_accuracy_list=[]\n",
        "    \n",
        "    model.eval()\n",
        "    for epoch in tqdm(range(epochs)):\n",
        "      running_test_loss=0.0\n",
        "      running_test_accuracy = 0.0\n",
        "      with torch.no_grad():\n",
        "        for (i, (inputs, targets)) in tqdm(enumerate(test_dl)):\n",
        "            #Evaluate the model on the test set\n",
        "            inputs,targets = inputs.to(device),targets.to(device)\n",
        "            # print(i)\n",
        "            predicted_output = model(inputs)\n",
        "            y_pred_tag = torch.round(predicted_output)\n",
        "            # print(y_pred_tag)\n",
        "            preds.append(y_pred_tag.cpu().detach().numpy())\n",
        "            #Retrieve a numpy weights array\n",
        "            # yhat = yhat.detach().numpy()\n",
        "            test_los = loss_function(predicted_output, targets)\n",
        "            # loss.backward()\n",
        "            # print(loss)\n",
        "            # print(targets.shape)\n",
        "            test_acc= binary_acc(predicted_output, targets).item()\n",
        "            # Extract the weights using detach to get the numerical values in an ndarray, instead of tensor\n",
        "            actual = targets.cpu().numpy()\n",
        "            actual = actual.reshape((len(actual), 1))\n",
        "            acc = (predicted_output.reshape(-1).detach().numpy().round() == actual).mean()\n",
        "            # Round to get the class value i.e. sick vs not sick\n",
        "            # yhat = yhat.round()\n",
        "            # Store the predictions in the empty lists initialised at the start of the class\n",
        "            # preds.append(yhat)\n",
        "            actuals.append(actual)\n",
        "            test_acc=accuracy_score(actual,y_pred_tag.cpu().detach().numpy())\n",
        "            running_test_accuracy+=test_acc\n",
        "            # print(\"Loss: {}\".format(test_los.item()))\n",
        "\n",
        "            running_test_loss+=test_los.item()\n",
        "        test_loss_value = running_test_loss/len(test_dl) \n",
        "        test_accuracy_value =running_test_accuracy/len(test_dl) \n",
        "        print(f'Epoch {epoch+0:03}: | Loss: {test_loss_value:.5f} | Acc: {test_accuracy_value:.3f}')\n",
        "        print('Epoch {}/{} and Last loss: {} and Last Accuracy: {} and train_loss_value: {}'.format(epoch+1, epochs,test_los.item(),test_acc,test_loss_value))\n",
        "        test_loss_list.append(test_loss_value)\n",
        "        test_accuracy_list.append(test_accuracy_value)\n",
        "    plt.plot(test_loss_list)\n",
        "    plt.show()\n",
        "    plt.plot(test_accuracy_list)\n",
        "    plt.show()\n",
        "    final_test_accuracy_list.extend(test_accuracy_list)\n",
        "    final_test_loss_list.extend(test_loss_list)\n",
        "    # Stack the predictions and actual arrays vertically\n",
        "    preds, actuals = vstack(preds), vstack(actuals)\n",
        "    #Calculate metrics\n",
        "    y_pred_list = [a.squeeze().tolist() for a in preds]\n",
        "    #flattens the lists in sequence\n",
        "    ytest_pred = list(itertools.chain.from_iterable(preds))\n",
        "    cm = confusion_matrix(actuals, preds)\n",
        "    # Get descriptions of tp, tn, fp, fn\n",
        "    tn, fp, fn, tp = cm.ravel()\n",
        "    total = sum(cm.ravel())\n",
        "    \n",
        "    metrics = {\n",
        "        'accuracy': accuracy_score(actuals, preds),\n",
        "        'AU_ROC': roc_auc_score(actuals, preds),\n",
        "        'f1_score': f1_score(actuals, preds),\n",
        "        'average_precision_score': average_precision_score(actuals, preds),\n",
        "        'f_beta': ((1+beta**2) * precision_score(actuals, preds) * recall_score(actuals, preds)) / (beta**2 * precision_score(actuals, preds) + recall_score(actuals, preds)),\n",
        "        # 'matthews_correlation_coefficient': (tp*tn - fp*fn) / math.sqrt((tp+fp)*(tp+fn)*(tn+fp)*(tn+fn)),\n",
        "        'precision': precision_score(actuals, preds),\n",
        "        'recall': recall_score(actuals, preds),\n",
        "        'true_positive_rate_TPR':recall_score(actuals, preds),\n",
        "        'false_positive_rate_FPR':fp / (fp + tn) ,\n",
        "        'false_discovery_rate': fp / (fp +tp),\n",
        "        'false_negative_rate': fn / (fn + tp) ,\n",
        "        'negative_predictive_value': tn / (tn+fn),\n",
        "        'misclassification_error_rate': (fp+fn)/total ,\n",
        "        'sensitivity': tp / (tp + fn),\n",
        "        'specificity': tn / (tn + fp),\n",
        "        #'confusion_matrix': confusion_matrix(actuals, preds), \n",
        "        'TP': tp,\n",
        "        'FP': fp, \n",
        "        'FN': fn, \n",
        "        'TN': tn\n",
        "    }\n",
        "    return metrics, preds, actuals\n"
      ],
      "metadata": {
        "id": "lGGuSjUWPOST"
      },
      "execution_count": 123,
      "outputs": []
    },
    {
      "cell_type": "code",
      "execution_count": 124,
      "metadata": {
        "colab": {
          "base_uri": "https://localhost:8080/",
          "height": 443
        },
        "id": "1mswKS7Of1q7",
        "outputId": "98f98d13-5360-43ed-80b2-10e4ec0fbdb0"
      },
      "outputs": [
        {
          "output_type": "stream",
          "name": "stderr",
          "text": [
            "  0%|          | 0/50 [00:00<?, ?it/s]\n",
            "0it [00:00, ?it/s]\n",
            "  0%|          | 0/50 [00:00<?, ?it/s]\n"
          ]
        },
        {
          "output_type": "error",
          "ename": "ValueError",
          "evalue": "ignored",
          "traceback": [
            "\u001b[0;31m---------------------------------------------------------------------------\u001b[0m",
            "\u001b[0;31mValueError\u001b[0m                                Traceback (most recent call last)",
            "\u001b[0;32m<ipython-input-124-f58f7349a56b>\u001b[0m in \u001b[0;36m<module>\u001b[0;34m\u001b[0m\n\u001b[0;32m----> 1\u001b[0;31m \u001b[0mresults\u001b[0m\u001b[0;34m=\u001b[0m\u001b[0mtest_model\u001b[0m\u001b[0;34m(\u001b[0m\u001b[0mtest_loader\u001b[0m\u001b[0;34m,\u001b[0m \u001b[0mmodel\u001b[0m\u001b[0;34m,\u001b[0m \u001b[0mepochs\u001b[0m\u001b[0;34m=\u001b[0m\u001b[0;36m50\u001b[0m\u001b[0;34m,\u001b[0m\u001b[0mbeta\u001b[0m\u001b[0;34m=\u001b[0m\u001b[0;36m1\u001b[0m\u001b[0;34m)\u001b[0m\u001b[0;34m\u001b[0m\u001b[0;34m\u001b[0m\u001b[0m\n\u001b[0m\u001b[1;32m      2\u001b[0m \u001b[0mmodel_metrics\u001b[0m \u001b[0;34m=\u001b[0m \u001b[0mresults\u001b[0m\u001b[0;34m[\u001b[0m\u001b[0;36m0\u001b[0m\u001b[0;34m]\u001b[0m\u001b[0;34m\u001b[0m\u001b[0;34m\u001b[0m\u001b[0m\n\u001b[1;32m      3\u001b[0m \u001b[0mmetrics_df\u001b[0m \u001b[0;34m=\u001b[0m \u001b[0mpd\u001b[0m\u001b[0;34m.\u001b[0m\u001b[0mDataFrame\u001b[0m\u001b[0;34m.\u001b[0m\u001b[0mfrom_dict\u001b[0m\u001b[0;34m(\u001b[0m\u001b[0mmodel_metrics\u001b[0m\u001b[0;34m,\u001b[0m \u001b[0morient\u001b[0m\u001b[0;34m=\u001b[0m\u001b[0;34m'index'\u001b[0m\u001b[0;34m,\u001b[0m \u001b[0mcolumns\u001b[0m\u001b[0;34m=\u001b[0m\u001b[0;34m[\u001b[0m\u001b[0;34m'Value'\u001b[0m\u001b[0;34m]\u001b[0m\u001b[0;34m)\u001b[0m\u001b[0;34m\u001b[0m\u001b[0;34m\u001b[0m\u001b[0m\n\u001b[1;32m      4\u001b[0m \u001b[0mmetrics_df\u001b[0m\u001b[0;34m.\u001b[0m\u001b[0mindex\u001b[0m\u001b[0;34m.\u001b[0m\u001b[0mname\u001b[0m \u001b[0;34m=\u001b[0m \u001b[0;34m'Metrics_Name'\u001b[0m\u001b[0;34m\u001b[0m\u001b[0;34m\u001b[0m\u001b[0m\n\u001b[1;32m      5\u001b[0m \u001b[0mmetrics_df\u001b[0m\u001b[0;34m.\u001b[0m\u001b[0mreset_index\u001b[0m\u001b[0;34m(\u001b[0m\u001b[0minplace\u001b[0m\u001b[0;34m=\u001b[0m\u001b[0;32mTrue\u001b[0m\u001b[0;34m)\u001b[0m\u001b[0;34m\u001b[0m\u001b[0;34m\u001b[0m\u001b[0m\n",
            "\u001b[0;32m<ipython-input-123-e671381285e6>\u001b[0m in \u001b[0;36mtest_model\u001b[0;34m(test_dl, model, epochs, beta)\u001b[0m\n\u001b[1;32m     25\u001b[0m             \u001b[0;31m#Retrieve a numpy weights array\u001b[0m\u001b[0;34m\u001b[0m\u001b[0;34m\u001b[0m\u001b[0;34m\u001b[0m\u001b[0m\n\u001b[1;32m     26\u001b[0m             \u001b[0;31m# yhat = yhat.detach().numpy()\u001b[0m\u001b[0;34m\u001b[0m\u001b[0;34m\u001b[0m\u001b[0;34m\u001b[0m\u001b[0m\n\u001b[0;32m---> 27\u001b[0;31m             \u001b[0mtest_los\u001b[0m \u001b[0;34m=\u001b[0m \u001b[0mloss_function\u001b[0m\u001b[0;34m(\u001b[0m\u001b[0mpredicted_output\u001b[0m\u001b[0;34m,\u001b[0m \u001b[0mtargets\u001b[0m\u001b[0;34m)\u001b[0m\u001b[0;34m\u001b[0m\u001b[0;34m\u001b[0m\u001b[0m\n\u001b[0m\u001b[1;32m     28\u001b[0m             \u001b[0;31m# loss.backward()\u001b[0m\u001b[0;34m\u001b[0m\u001b[0;34m\u001b[0m\u001b[0;34m\u001b[0m\u001b[0m\n\u001b[1;32m     29\u001b[0m             \u001b[0;31m# print(loss)\u001b[0m\u001b[0;34m\u001b[0m\u001b[0;34m\u001b[0m\u001b[0;34m\u001b[0m\u001b[0m\n",
            "\u001b[0;32m/usr/local/lib/python3.8/dist-packages/torch/nn/modules/module.py\u001b[0m in \u001b[0;36m_call_impl\u001b[0;34m(self, *input, **kwargs)\u001b[0m\n\u001b[1;32m   1192\u001b[0m         if not (self._backward_hooks or self._forward_hooks or self._forward_pre_hooks or _global_backward_hooks\n\u001b[1;32m   1193\u001b[0m                 or _global_forward_hooks or _global_forward_pre_hooks):\n\u001b[0;32m-> 1194\u001b[0;31m             \u001b[0;32mreturn\u001b[0m \u001b[0mforward_call\u001b[0m\u001b[0;34m(\u001b[0m\u001b[0;34m*\u001b[0m\u001b[0minput\u001b[0m\u001b[0;34m,\u001b[0m \u001b[0;34m**\u001b[0m\u001b[0mkwargs\u001b[0m\u001b[0;34m)\u001b[0m\u001b[0;34m\u001b[0m\u001b[0;34m\u001b[0m\u001b[0m\n\u001b[0m\u001b[1;32m   1195\u001b[0m         \u001b[0;31m# Do not call functions when jit is used\u001b[0m\u001b[0;34m\u001b[0m\u001b[0;34m\u001b[0m\u001b[0;34m\u001b[0m\u001b[0m\n\u001b[1;32m   1196\u001b[0m         \u001b[0mfull_backward_hooks\u001b[0m\u001b[0;34m,\u001b[0m \u001b[0mnon_full_backward_hooks\u001b[0m \u001b[0;34m=\u001b[0m \u001b[0;34m[\u001b[0m\u001b[0;34m]\u001b[0m\u001b[0;34m,\u001b[0m \u001b[0;34m[\u001b[0m\u001b[0;34m]\u001b[0m\u001b[0;34m\u001b[0m\u001b[0;34m\u001b[0m\u001b[0m\n",
            "\u001b[0;32m/usr/local/lib/python3.8/dist-packages/torch/nn/modules/loss.py\u001b[0m in \u001b[0;36mforward\u001b[0;34m(self, input, target)\u001b[0m\n\u001b[1;32m    718\u001b[0m \u001b[0;34m\u001b[0m\u001b[0m\n\u001b[1;32m    719\u001b[0m     \u001b[0;32mdef\u001b[0m \u001b[0mforward\u001b[0m\u001b[0;34m(\u001b[0m\u001b[0mself\u001b[0m\u001b[0;34m,\u001b[0m \u001b[0minput\u001b[0m\u001b[0;34m:\u001b[0m \u001b[0mTensor\u001b[0m\u001b[0;34m,\u001b[0m \u001b[0mtarget\u001b[0m\u001b[0;34m:\u001b[0m \u001b[0mTensor\u001b[0m\u001b[0;34m)\u001b[0m \u001b[0;34m->\u001b[0m \u001b[0mTensor\u001b[0m\u001b[0;34m:\u001b[0m\u001b[0;34m\u001b[0m\u001b[0;34m\u001b[0m\u001b[0m\n\u001b[0;32m--> 720\u001b[0;31m         return F.binary_cross_entropy_with_logits(input, target,\n\u001b[0m\u001b[1;32m    721\u001b[0m                                                   \u001b[0mself\u001b[0m\u001b[0;34m.\u001b[0m\u001b[0mweight\u001b[0m\u001b[0;34m,\u001b[0m\u001b[0;34m\u001b[0m\u001b[0;34m\u001b[0m\u001b[0m\n\u001b[1;32m    722\u001b[0m                                                   \u001b[0mpos_weight\u001b[0m\u001b[0;34m=\u001b[0m\u001b[0mself\u001b[0m\u001b[0;34m.\u001b[0m\u001b[0mpos_weight\u001b[0m\u001b[0;34m,\u001b[0m\u001b[0;34m\u001b[0m\u001b[0;34m\u001b[0m\u001b[0m\n",
            "\u001b[0;32m/usr/local/lib/python3.8/dist-packages/torch/nn/functional.py\u001b[0m in \u001b[0;36mbinary_cross_entropy_with_logits\u001b[0;34m(input, target, weight, size_average, reduce, reduction, pos_weight)\u001b[0m\n\u001b[1;32m   3158\u001b[0m \u001b[0;34m\u001b[0m\u001b[0m\n\u001b[1;32m   3159\u001b[0m     \u001b[0;32mif\u001b[0m \u001b[0;32mnot\u001b[0m \u001b[0;34m(\u001b[0m\u001b[0mtarget\u001b[0m\u001b[0;34m.\u001b[0m\u001b[0msize\u001b[0m\u001b[0;34m(\u001b[0m\u001b[0;34m)\u001b[0m \u001b[0;34m==\u001b[0m \u001b[0minput\u001b[0m\u001b[0;34m.\u001b[0m\u001b[0msize\u001b[0m\u001b[0;34m(\u001b[0m\u001b[0;34m)\u001b[0m\u001b[0;34m)\u001b[0m\u001b[0;34m:\u001b[0m\u001b[0;34m\u001b[0m\u001b[0;34m\u001b[0m\u001b[0m\n\u001b[0;32m-> 3160\u001b[0;31m         \u001b[0;32mraise\u001b[0m \u001b[0mValueError\u001b[0m\u001b[0;34m(\u001b[0m\u001b[0;34m\"Target size ({}) must be the same as input size ({})\"\u001b[0m\u001b[0;34m.\u001b[0m\u001b[0mformat\u001b[0m\u001b[0;34m(\u001b[0m\u001b[0mtarget\u001b[0m\u001b[0;34m.\u001b[0m\u001b[0msize\u001b[0m\u001b[0;34m(\u001b[0m\u001b[0;34m)\u001b[0m\u001b[0;34m,\u001b[0m \u001b[0minput\u001b[0m\u001b[0;34m.\u001b[0m\u001b[0msize\u001b[0m\u001b[0;34m(\u001b[0m\u001b[0;34m)\u001b[0m\u001b[0;34m)\u001b[0m\u001b[0;34m)\u001b[0m\u001b[0;34m\u001b[0m\u001b[0;34m\u001b[0m\u001b[0m\n\u001b[0m\u001b[1;32m   3161\u001b[0m \u001b[0;34m\u001b[0m\u001b[0m\n\u001b[1;32m   3162\u001b[0m     \u001b[0;32mreturn\u001b[0m \u001b[0mtorch\u001b[0m\u001b[0;34m.\u001b[0m\u001b[0mbinary_cross_entropy_with_logits\u001b[0m\u001b[0;34m(\u001b[0m\u001b[0minput\u001b[0m\u001b[0;34m,\u001b[0m \u001b[0mtarget\u001b[0m\u001b[0;34m,\u001b[0m \u001b[0mweight\u001b[0m\u001b[0;34m,\u001b[0m \u001b[0mpos_weight\u001b[0m\u001b[0;34m,\u001b[0m \u001b[0mreduction_enum\u001b[0m\u001b[0;34m)\u001b[0m\u001b[0;34m\u001b[0m\u001b[0;34m\u001b[0m\u001b[0m\n",
            "\u001b[0;31mValueError\u001b[0m: Target size (torch.Size([87, 1, 1])) must be the same as input size (torch.Size([87, 1]))"
          ]
        }
      ],
      "source": [
        "results=test_model(test_loader, model, epochs=50,beta=1)\n",
        "model_metrics = results[0]\n",
        "metrics_df = pd.DataFrame.from_dict(model_metrics, orient='index', columns=['Value'])\n",
        "metrics_df.index.name = 'Metrics_Name'\n",
        "metrics_df.reset_index(inplace=True)\n",
        "metrics_df\n",
        "\n",
        "\n",
        "# Model , Optimizer, Loss\n",
        "# model = Net(input_shape=x.shape[1]).to()\n",
        "# optimizer = torch.optim.SGD(model.parameters(),lr=learning_rate)\n",
        "# loss_fn = nn.BCELoss()\n",
        "\n",
        "# #forward loop\n",
        "# losses = []\n",
        "# accur = [] \n",
        "# for i in range(epochs):\n",
        "#   for j,(x_train,y_train) in enumerate(trainloader):\n",
        "    \n",
        "#     #calculate output\n",
        "#     output = model(x_train)\n",
        " \n",
        "#     #calculate loss\n",
        "#     loss = loss_fn(output,y_train.reshape(-1,1))\n",
        " \n",
        "#     #accuracy\n",
        "#     predicted = model(torch.tensor(x.values,dtype=torch.float32))\n",
        "#     acc = (predicted.reshape(-1).detach().numpy().round() == y).mean()\n",
        "#     #backprop\n",
        "#     optimizer.zero_grad()\n",
        "#     loss.backward()\n",
        "#     optimizer.step()\n",
        "\n",
        "#   if i%50 == 0:\n",
        "#     losses.append(loss)\n",
        "#     accur.append(acc)\n",
        "#     print(\"epoch {}\\tloss : {}\\t accuracy : {}\".format(i,loss,acc))\n",
        "\n",
        "# # train_dataloader = DataLoader(data_line, batch_size=64, shuffle=True)\n",
        "# # test_dataloader = DataLoader(data_line, batch_size=64, shuffle=True)\n",
        "# # # dataloader.batch_size\n",
        "# # # for sample in dataloader:\n",
        "# # #     print(sample)\n",
        "\n",
        "# # for i in range(len(train_dataloader)):\n",
        "# #     sample = train_dataloader[i]\n",
        "\n",
        "#     print(i, sample['image'].size(), sample['landmarks'].size())\n",
        "\n",
        "#     if i == 3:\n",
        "#         break\n",
        "\n",
        "# loss_func = nn.BCELoss()\n",
        "# #Optimizer\n",
        "# learning_rate = 0.001\n",
        "# optimizer = torch.optim.Adam(model.parameters(), lr=learning_rate)\n",
        "# epochs = 50\n",
        "\n",
        "# model.train()\n",
        "# train_loss = []\n",
        "# for epoch in range(epochs):\n",
        "#     #Within each epoch run the subsets of data = batch sizes.\n",
        "#     for xb, yb in train_dl:\n",
        "#         y_pred = model(xb)            # Forward Propagation\n",
        "#         loss = loss_func(y_pred, yb)  # Loss Computation\n",
        "#         optimizer.zero_grad()         # Clearing all previous gradients, setting to zero \n",
        "#         loss.backward()               # Back Propagation\n",
        "#         optimizer.step()              # Updating the parameters \n",
        "#     #print(\"Loss in iteration :\"+str(epoch)+\" is: \"+str(loss.item()))\n",
        "#     train_loss.append(loss.item())\n",
        "# print('Last iteration loss value: '+str(loss.item()))\n",
        "# plt.plot(train_loss)\n",
        "# plt.show()"
      ]
    },
    {
      "cell_type": "code",
      "source": [
        "print(final_test_accuracy_list)\n",
        "print(final_test_loss_list)\n",
        "print(final_train_loss_list)\n",
        "print(final_train_accuracy_list)\n",
        "print(len(final_train_accuracy_list))\n",
        "print(len(final_test_accuracy_list))\n",
        "fig = plt.figure()\n",
        "\n",
        "ax1 = plt.subplot2grid((2,1), (0,0))\n",
        "ax2 = plt.subplot2grid((2,1), (1,0), sharex=ax1)\n",
        "\n",
        "\n",
        "ax1.plot( final_train_accuracy_list, label=\"train_accuracy\")\n",
        "ax1.plot(final_test_accuracy_list, label=\"test_accuracy\")\n",
        "ax1.legend(loc=2)\n",
        "ax2.plot(final_train_loss_list, label=\"train_loss\")\n",
        "ax2.plot(final_test_loss_list, label=\"test_loss\")\n",
        "ax2.legend(loc=2)\n",
        "# plt.plot(final_train_accuracy_list,final_test_accuracy_list)\n",
        "plt.show()"
      ],
      "metadata": {
        "id": "XXzDbjpRaISS"
      },
      "execution_count": null,
      "outputs": []
    }
  ],
  "metadata": {
    "colab": {
      "provenance": [],
      "include_colab_link": true
    },
    "gpuClass": "standard",
    "kernelspec": {
      "display_name": "Python 3",
      "name": "python3"
    },
    "language_info": {
      "name": "python"
    },
    "accelerator": "GPU"
  },
  "nbformat": 4,
  "nbformat_minor": 0
}